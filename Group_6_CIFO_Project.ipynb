{
  "cells": [
    {
      "cell_type": "markdown",
      "metadata": {
        "id": "WsLjPAb5FjZt"
      },
      "source": [
        "# **CIFO Final Project**"
      ]
    },
    {
      "cell_type": "markdown",
      "source": [
        "## **Student Identification**"
      ],
      "metadata": {
        "id": "RGJR0AnWJ2zW"
      }
    },
    {
      "cell_type": "markdown",
      "source": [
        "**Group 6**"
      ],
      "metadata": {
        "id": "QSKWxeTvRmSB"
      }
    },
    {
      "cell_type": "markdown",
      "source": [
        "Student Name       | Student Number\n",
        "-------------------|------------------\n",
        "Filipe Dias        | r20181050\n",
        "Inês Santos        | r20191184\n",
        "Manuel Marreiros   | r20191223"
      ],
      "metadata": {
        "id": "VnVWT1ZDJwE3"
      }
    },
    {
      "cell_type": "markdown",
      "source": [
        "## **Imports**"
      ],
      "metadata": {
        "id": "cTfPXtErJ8g9"
      }
    },
    {
      "cell_type": "code",
      "execution_count": 32,
      "metadata": {
        "id": "8ZWlwydSlNvF"
      },
      "outputs": [],
      "source": [
        "import numpy as np\n",
        "import pandas as pd\n",
        "import tensorflow as tf\n",
        "import random\n",
        "import time\n",
        "from openpyxl import Workbook\n",
        "from sklearn.decomposition import PCA\n",
        "from sklearn.preprocessing import StandardScaler\n",
        "from keras.datasets import cifar10\n",
        "from keras.utils import to_categorical\n",
        "from keras.models import Sequential, Model\n",
        "from keras.layers import Input, Flatten, Dense\n",
        "from keras.initializers import GlorotUniform\n",
        "from matplotlib import pyplot as plt\n",
        "from PIL import Image\n",
        "import tensorflow_addons as tfa\n",
        "from google.colab import files  # Import files module if using Google Colab"
      ]
    },
    {
      "cell_type": "markdown",
      "metadata": {
        "id": "M8591ypLF79X"
      },
      "source": [
        "## **Data Preprocessing**"
      ]
    },
    {
      "cell_type": "code",
      "execution_count": 33,
      "metadata": {
        "id": "0Jr-R7_qt4Zn"
      },
      "outputs": [],
      "source": [
        "# Load CIFAR-10 dataset\n",
        "(x_train, y_train), (x_test, y_test) = cifar10.load_data()\n"
      ]
    },
    {
      "cell_type": "code",
      "execution_count": 34,
      "metadata": {
        "id": "9_f4eFlgHp2p"
      },
      "outputs": [],
      "source": [
        "def show_images(images):\n",
        "    for i in range(min(images.shape[0], 5)):\n",
        "        img = tf.keras.preprocessing.image.array_to_img(images[i])\n",
        "        img.show()"
      ]
    },
    {
      "cell_type": "code",
      "execution_count": 35,
      "metadata": {
        "colab": {
          "base_uri": "https://localhost:8080/",
          "height": 177
        },
        "id": "ODN140HMHkG0",
        "outputId": "a24c2607-27bf-40e8-82cc-68184f16e759"
      },
      "outputs": [
        {
          "output_type": "display_data",
          "data": {
            "text/plain": [
              "<PIL.Image.Image image mode=RGB size=32x32 at 0x7FDCFB606650>"
            ],
            "image/png": "[encoded data removed]"
          },
          "metadata": {}
        },
        {
          "output_type": "display_data",
          "data": {
            "text/plain": [
              "<PIL.Image.Image image mode=RGB size=32x32 at 0x7FDF079E0A30>"
            ],
            "image/png": "[encoded data removed]"
          },
          "metadata": {}
        },
        {
          "output_type": "display_data",
          "data": {
            "text/plain": [
              "<PIL.Image.Image image mode=RGB size=32x32 at 0x7FDCFB881ED0>"
            ],
            "image/png": "[encoded data removed]"
          },
          "metadata": {}
        },
        {
          "output_type": "display_data",
          "data": {
            "text/plain": [
              "<PIL.Image.Image image mode=RGB size=32x32 at 0x7FE2F3125570>"
            ],
            "image/png": "[encoded data removed]"
          },
          "metadata": {}
        },
        {
          "output_type": "display_data",
          "data": {
            "text/plain": [
              "<PIL.Image.Image image mode=RGB size=32x32 at 0x7FDF079E0A30>"
            ],
            "image/png": "[encoded data removed]"
          },
          "metadata": {}
        }
      ],
      "source": [
        "show_images(x_train)"
      ]
    },
    {
      "cell_type": "code",
      "execution_count": 36,
      "metadata": {
        "id": "-jbGUyn4GIpy"
      },
      "outputs": [],
      "source": [
        "# Preprocess the data\n",
        "x_train = x_train.reshape(x_train.shape[0], -1)  # Flatten the images into vectors\n",
        "x_test = x_test.reshape(x_test.shape[0], -1)\n"
      ]
    },
    {
      "cell_type": "code",
      "source": [
        "#Perform PCA\n",
        "pca_3072 = PCA(n_components=3072)\n",
        "pca_3072.fit(x_train)\n",
        "\n",
        "#Plot the scree plot\n",
        "plt.grid()\n",
        "plt.plot(np.cumsum(pca_3072.explained_variance_ratio_ * 100))\n",
        "plt.xlabel('Number of components')\n",
        "plt.ylabel('Explained variance')\n",
        "\n",
        "#Add a vertical line at 100 components\n",
        "plt.axvline(x=100, color='r', linestyle='--')\n",
        "plt.show()"
      ],
      "metadata": {
        "colab": {
          "base_uri": "https://localhost:8080/",
          "height": 449
        },
        "id": "PqDsy7o9UieL",
        "outputId": "3b4c201e-ddc5-46fa-fcf9-1176681b9731"
      },
      "execution_count": 38,
      "outputs": [
        {
          "output_type": "display_data",
          "data": {
            "text/plain": [
              "<Figure size 640x480 with 1 Axes>"
            ],
            "image/png": "[encoded data removed]"
          },
          "metadata": {}
        }
      ]
    },
    {
      "cell_type": "code",
      "source": [
        "# Apply PCA\n",
        "pca = PCA(n_components=100)  # Set the desired number of components\n",
        "x_train_pca = pca.fit_transform(x_train)\n",
        "x_test_pca = pca.transform(x_test)\n",
        "\n",
        "# One-hot encode the labels\n",
        "y_train = to_categorical(y_train)\n",
        "y_test = to_categorical(y_test)\n",
        "\n",
        "scaler = StandardScaler()  # Standardize the data\n",
        "x_train = scaler.fit_transform(x_train)\n",
        "x_test = scaler.transform(x_test)"
      ],
      "metadata": {
        "id": "c5cbTdqmUmUe"
      },
      "execution_count": 39,
      "outputs": []
    },
    {
      "cell_type": "markdown",
      "metadata": {
        "id": "DaLW00xUGeaP"
      },
      "source": [
        "## **Utils**"
      ]
    },
    {
      "cell_type": "code",
      "execution_count": 6,
      "metadata": {
        "id": "-xHk1JYJpZcm"
      },
      "outputs": [],
      "source": [
        "num_classes = 10\n",
        "num_features = 100"
      ]
    },
    {
      "cell_type": "markdown",
      "metadata": {
        "id": "gU4baNUTR7sZ"
      },
      "source": [
        "### **Neural Network**"
      ]
    },
    {
      "cell_type": "code",
      "execution_count": 7,
      "metadata": {
        "id": "akLdltGLSACK"
      },
      "outputs": [],
      "source": [
        "# Defining the single-layer neural network architecture\n",
        "inputs = Input(shape=(num_features,))\n",
        "outputs = Dense(num_classes, activation='softmax')(inputs)\n",
        "model = Model(inputs=inputs, outputs=outputs)"
      ]
    },
    {
      "cell_type": "markdown",
      "metadata": {
        "id": "uZRP-UPmGk8p"
      },
      "source": [
        "### **Fitness Function**"
      ]
    },
    {
      "cell_type": "markdown",
      "source": [
        "Although we mainly utilized the first fitness function, where accuracy is the measure of the performance of each individual, we developed a second fitness function, where this measure if the F1-Score. This function was implemented at the end of the project."
      ],
      "metadata": {
        "id": "NUSY0RM5SGsd"
      }
    },
    {
      "cell_type": "code",
      "execution_count": 8,
      "metadata": {
        "id": "_9XLWbm5t-eT"
      },
      "outputs": [],
      "source": [
        "# Accuracy Fitness Function\n",
        "def fitness(chromosome, maximization):\n",
        "    # Reshape the chromosome to the shape of the NN weights\n",
        "    # Split the chromosome into weight and bias components\n",
        "    weights = chromosome.reshape((num_features, num_classes))\n",
        "    biases = chromosome[-num_classes:]\n",
        "\n",
        "    model.set_weights([weights, biases])\n",
        "\n",
        "    # Compile the model\n",
        "    model.compile(loss='categorical_crossentropy', optimizer='adam', metrics=['accuracy'])\n",
        "\n",
        "    # Train the model using the transformed training set\n",
        "    # model.fit(x_train_pca, y_train, batch_size=32, epochs=3, verbose=0)\n",
        "    \n",
        "    # Evaluate the model on the test set and return the accuracy\n",
        "    loss, accuracy = model.evaluate(x_test_pca.reshape((10000, num_features)), y_test, verbose=0)\n",
        "\n",
        "    if maximization:\n",
        "      return accuracy\n",
        "    else:\n",
        "      return loss"
      ]
    },
    {
      "cell_type": "code",
      "source": [
        "# F1-Score Fitness Function\n",
        "def fitness_f1(chromosome, maximization):\n",
        "    # Reshape the chromosome to the shape of the NN weights\n",
        "    # Split the chromosome into weight and bias components\n",
        "    weights = chromosome.reshape((num_features, num_classes))\n",
        "    biases = chromosome[-num_classes:]\n",
        "\n",
        "    model.set_weights([weights, biases])\n",
        "\n",
        "    # Compile the model\n",
        "    model.compile(loss='categorical_crossentropy', optimizer='adam', metrics=[tfa.metrics.F1Score(num_classes=num_classes, average='macro', name='F1_Score')])\n",
        "\n",
        "    # Evaluate the model on the test set and return  F1-score\n",
        "    loss, F1_Score = model.evaluate(x_test_pca.reshape((10000, num_features)), y_test, verbose=0)\n",
        "\n",
        "    if maximization:\n",
        "      return F1_Score\n",
        "    else:\n",
        "      return loss\n"
      ],
      "metadata": {
        "id": "inOMzBzgLp1b"
      },
      "execution_count": 9,
      "outputs": []
    },
    {
      "cell_type": "markdown",
      "metadata": {
        "id": "DgGu2Lm-GpDa"
      },
      "source": [
        "### **Genetic Operators**"
      ]
    },
    {
      "cell_type": "markdown",
      "metadata": {
        "id": "B369_IkPGx-w"
      },
      "source": [
        "#### **Selection**"
      ]
    },
    {
      "cell_type": "code",
      "execution_count": 10,
      "metadata": {
        "id": "A0cGeXx2uA--"
      },
      "outputs": [],
      "source": [
        "# Tournament selection\n",
        "def tournament_selection(population, maximization, fitness_values, tournament_size):\n",
        "    # Choose tournament_size individuals at random from the population\n",
        "    tournament1 = random.sample(list(zip(population, fitness_values)), tournament_size)\n",
        "    tournament2 = random.sample(list(zip(population, fitness_values)), tournament_size)\n",
        "\n",
        "    if maximization:\n",
        "      # Sort the tournament by fitness value in descending order\n",
        "      tournament1.sort(key=lambda x: x[1], reverse=True)\n",
        "      tournament2.sort(key=lambda x: x[1], reverse=True)\n",
        "    else:\n",
        "      #Sort the tournament by fitness value in ascending order\n",
        "      tournament1.sort(key=lambda x: x[1], reverse=False)\n",
        "      tournament2.sort(key=lambda x: x[1], reverse=False)\n",
        "\n",
        "    # Return the two individuals with the highest fitness values\n",
        "    return tournament1[0][0], tournament2[0][0]\n",
        "\n",
        "#Roulette Wheel Selection\n",
        "def roulette_wheel_selection(population, maximization, fitness_values):\n",
        "    # calculate the total fitness of the population\n",
        "    total_fitness = sum(fitness_values)\n",
        "\n",
        "    # calculate the probability of selection for each individual\n",
        "    if maximization:\n",
        "      selection_probabilities = [fitness/total_fitness for fitness in fitness_values]\n",
        "    else:\n",
        "      selection_probabilities = [1-fitness/total_fitness for fitness in fitness_values]\n",
        "\n",
        "    # select two parents using the selection probabilities\n",
        "    parent_indices = np.random.choice(len(population), size=2, p=selection_probabilities, replace=False)\n",
        "    parent1 = population[parent_indices[0]]\n",
        "    parent2 = population[parent_indices[1]]\n",
        "    return parent1, parent2\n",
        "\n",
        "#Rank-Tournament Selection\n",
        "def rank_tournament_selection(population, maximization, fitness_values, tournament_size):\n",
        "    num_individuals = len(population)\n",
        "    \n",
        "    # Rank-based selection\n",
        "    rank_probabilities = [2 * (i + 1) / (tournament_size * (tournament_size + 1)) for i in range(tournament_size)]\n",
        "    total_probability = sum(rank_probabilities)\n",
        "\n",
        "    if maximization:\n",
        "      rank_selection_probabilities = [p / total_probability for p in rank_probabilities]\n",
        "    else:\n",
        "      rank_selection_probabilities = [1 - p / total_probability for p in rank_probabilities]\n",
        "    \n",
        "    # Tournament selection\n",
        "    selected_parents = []\n",
        "    \n",
        "    for _ in range(2):  # Select 2 parents\n",
        "        tournament = random.sample(list(zip(population, fitness_values)), tournament_size)\n",
        "        \n",
        "        if random.random() < 0.5:  # 50% chance of using rank-based selection\n",
        "            selected_parent_index = random.choices(range(tournament_size), weights=rank_selection_probabilities, k=1)[0]\n",
        "            selected_parent = tournament[selected_parent_index][0]\n",
        "        else:  # 50% chance of using tournament selection\n",
        "            if maximization:\n",
        "              tournament.sort(key=lambda x: x[1], reverse=True)\n",
        "            else:\n",
        "              tournament.sort(key=lambda x: x[1], reverse=False)\n",
        "            selected_parent = tournament[0][0]\n",
        "        \n",
        "        selected_parents.append(selected_parent)\n",
        "    \n",
        "    return selected_parents"
      ]
    },
    {
      "cell_type": "markdown",
      "metadata": {
        "id": "tg4QQAgYHEP1"
      },
      "source": [
        "#### **Crossover**"
      ]
    },
    {
      "cell_type": "code",
      "execution_count": 11,
      "metadata": {
        "id": "cs8HtnaTG3FE"
      },
      "outputs": [],
      "source": [
        "# Single-point crossover\n",
        "def single_point_crossover(parent1, parent2):\n",
        "    co_point = np.random.randint(1, len(parent1)-2)\n",
        "\n",
        "    child1 = np.concatenate((parent1[:co_point], parent2[co_point:]))\n",
        "    child2 = np.concatenate((parent2[:co_point], parent1[co_point:]))\n",
        "\n",
        "    return child1, child2\n",
        "\n",
        "# Uniform crossover\n",
        "def uniform_crossover(parent1, parent2): \n",
        "    child1 = []\n",
        "    child2 = []\n",
        "    \n",
        "    # Iterate over the genes in the parents\n",
        "    for gene1, gene2 in zip(parent1, parent2):\n",
        "        # Randomly select which gene to use for child1 and child2\n",
        "        if random.random() < 0.5:\n",
        "            child1.append(gene1)\n",
        "            child2.append(gene2)\n",
        "        else:\n",
        "            child1.append(gene2)\n",
        "            child2.append(gene1)\n",
        "    \n",
        "    return child1, child2\n",
        "\n",
        "# Arithmetric crossover\n",
        "def arithmetic_crossover(parent1, parent2):\n",
        "    # Child placeholders\n",
        "    child1 = []\n",
        "    child2 = []\n",
        "\n",
        "    # Set a value for alpha between 0 and 1\n",
        "    alpha = random.uniform(0, 1)\n",
        "\n",
        "    for i in range(len(parent1)):\n",
        "        child1.append(np.round(parent1[i] * alpha + (1 - alpha) * parent2[i], 2))\n",
        "        child2.append(np.round(parent2[i] * alpha + (1 - alpha) * parent1[i], 2))\n",
        "\n",
        "    return child1, child2\n",
        "\n",
        "#Double-point crossover\n",
        "def double_point_crossover(parent1, parent2):\n",
        "    # Generate two random crossover points\n",
        "    point1 = random.randint(0, len(parent1)-1)\n",
        "    point2 = random.randint(0, len(parent1)-1)\n",
        "    \n",
        "    # Make sure point1 is less than point2\n",
        "    if point1 > point2:\n",
        "        point1, point2 = point2, point1\n",
        "    \n",
        "    # Perform crossover\n",
        "    child1 = np.concatenate((parent1[:point1], parent2[point1:point2], parent1[point2:]))\n",
        "    child2 = np.concatenate((parent2[:point1], parent1[point1:point2], parent2[point2:]))\n",
        "    \n",
        "    return child1, child2\n"
      ]
    },
    {
      "cell_type": "markdown",
      "metadata": {
        "id": "VP6NPzadHIS1"
      },
      "source": [
        "#### **Mutation**"
      ]
    },
    {
      "cell_type": "code",
      "execution_count": 12,
      "metadata": {
        "id": "FYP7pjmNG68P"
      },
      "outputs": [],
      "source": [
        "# Gaussian mutation\n",
        "def gaussian_mutation(chromosome):\n",
        "    idx = np.random.randint(0, len(chromosome))\n",
        "    chromosome[idx] += np.random.normal(0, 1)\n",
        "    return chromosome\n",
        "\n",
        "# Gaussian mutation 2\n",
        "def gaussian_mutation_2(chromosome, mut_rt):\n",
        "    mutated_chromosome = chromosome.copy()\n",
        "    num_genes = len(chromosome)\n",
        "\n",
        "    for i in range(num_genes):\n",
        "        if np.random.uniform() < mut_rt:\n",
        "            mutated_chromosome[i] += np.random.normal(0, 1)\n",
        "\n",
        "    return mutated_chromosome\n",
        "\n",
        "# Swap mutation\n",
        "def swap_mutation(chromosome):\n",
        "    mutated_chromosome = chromosome\n",
        "    idx1, idx2 = np.random.choice(len(chromosome), size=2, replace=False)\n",
        "    mutated_chromosome[idx1], mutated_chromosome[idx2] = mutated_chromosome[idx2], mutated_chromosome[idx1]\n",
        "    return mutated_chromosome\n",
        "\n",
        "# Inversion Mutation\n",
        "def inversion_mutation(chromosome):\n",
        "    mutated_chromosome = chromosome.copy()\n",
        "    idx1, idx2 = np.random.choice(len(chromosome), size=2, replace=False)\n",
        "\n",
        "    if idx1 > idx2: #the second points must be after the first one\n",
        "        idx1, idx2 = idx2, idx1\n",
        "    \n",
        "    mutated_chromosome[idx1:idx2] = mutated_chromosome[idx1:idx2][::-1]\n",
        "\n",
        "    return mutated_chromosome"
      ]
    },
    {
      "cell_type": "markdown",
      "metadata": {
        "id": "FnvXopROHKJu"
      },
      "source": [
        "#### **Elitism**"
      ]
    },
    {
      "cell_type": "code",
      "execution_count": 19,
      "metadata": {
        "id": "75OURzooG-v-"
      },
      "outputs": [],
      "source": [
        "def elitism_func(population, maximization, fitness_values, elite_size):\n",
        "    if maximization:\n",
        "      elite_indices = np.argsort(fitness_values)[::-1][:elite_size]\n",
        "    else:\n",
        "      elite_indices = np.argsort(fitness_values)[:elite_size]\n",
        "\n",
        "    elite_population = population[elite_indices]\n",
        "    \n",
        "    return elite_population"
      ]
    },
    {
      "cell_type": "markdown",
      "metadata": {
        "id": "Co0-mwN4HNEX"
      },
      "source": [
        "#### **Initialization**"
      ]
    },
    {
      "cell_type": "code",
      "execution_count": 14,
      "metadata": {
        "id": "9JxnUsPnvqpi"
      },
      "outputs": [],
      "source": [
        "# Xavier initialization function\n",
        "def xavier_init(shape):\n",
        "    fan_in = shape[0]\n",
        "    fan_out = shape[1]\n",
        "    limit = np.sqrt(6 / (fan_in + fan_out))\n",
        "    return np.random.uniform(low=-limit, high=limit, size=shape)"
      ]
    },
    {
      "cell_type": "markdown",
      "metadata": {
        "id": "us_0pN4xDmOS"
      },
      "source": [
        "## **Genetic Algorithms**"
      ]
    },
    {
      "cell_type": "markdown",
      "metadata": {
        "id": "T05AjH-90mIl"
      },
      "source": [
        "We first define a function for our genetic algorithm. This function takes the following arguments:\n",
        "\n",
        "1.   Population\n",
        "2.   If it is a maximization problem\n",
        "3.   Fitness function\n",
        "4.   Selection, crossover and mutation methods\n",
        "5.   If there is elitism\n",
        "6.   Number of generations\n",
        "7.   Crossover and mutation rates\n",
        "8.   The size of the elite population (the default is 0)\n",
        "9.   Additional arguments that may be required\n",
        "\n",
        "This way, we are able to easily test how different combinations of genetic operators and parameters may affect our results."
      ]
    },
    {
      "cell_type": "code",
      "execution_count": 27,
      "metadata": {
        "id": "oAoz5z24G8iq"
      },
      "outputs": [],
      "source": [
        "def genetic_algorithm(population, maximization, fitness, selection, crossover, mutation, elitism, num_generations, crossover_rate, mutation_rate, elite_size=0, **kwargs):\n",
        "  # This dictionary will store the metrics we will use to evaluate the models\n",
        "  final_results = {}\n",
        "\n",
        "  # This array will store the best fitness registered in each generation\n",
        "  results = []\n",
        "\n",
        "  # This array will register how each generation improved compared to the previous one\n",
        "  improvements = []\n",
        "\n",
        "  # This variable will store the time when the algorithm started running\n",
        "  start_time = time.time()\n",
        "\n",
        "  for i in range(num_generations):\n",
        "      next_generation = []\n",
        "      elite_population = []\n",
        "\n",
        "      # Evaluate the fitness of each chromosome in the population\n",
        "      fitness_values = np.array([fitness(chromosome, maximization) for chromosome in population])\n",
        "\n",
        "      if elitism:\n",
        "        elite_population = elitism_func(population, maximization, fitness_values, elite_size)\n",
        "      \n",
        "      # Populate the next generation using crossover and mutation\n",
        "      for j in range(pop_size - elite_size):\n",
        "        \n",
        "          parent1, parent2 = selection(population, maximization, fitness_values, **kwargs.get('selection_args', {}))\n",
        "\n",
        "          if np.random.rand() < crossover_rate:\n",
        "              child1, child2 = crossover(parent1, parent2)\n",
        "          else:\n",
        "              child1, child2 = parent1, parent2\n",
        "\n",
        "          if np.random.rand() < mutation_rate:\n",
        "                child1 = mutation(child1, **kwargs.get('mutation_args', {}))\n",
        "          if np.random.rand() < mutation_rate:\n",
        "                child2 = mutation(child2, **kwargs.get('mutation_args', {}))\n",
        "\n",
        "          next_generation.append(child1)\n",
        "                \n",
        "          if len(next_generation) < len(population):\n",
        "              next_generation.append(child2)\n",
        "\n",
        "      if elitism:\n",
        "        next_generation.extend(elite_population)\n",
        "\n",
        "      population = np.array(next_generation)\n",
        "      \n",
        "      if maximization:\n",
        "\n",
        "        best_fitness = np.max(fitness_values)\n",
        "        results.append(best_fitness)\n",
        "        print(\"Generation {}: Best fitness = {:.4f}\".format(i+1, best_fitness))\n",
        "\n",
        "        # Compute the improvement rate of the current generation\n",
        "        if i > 0:\n",
        "          prev_best_fitness = results[-2]\n",
        "          improvement = (best_fitness - prev_best_fitness) / prev_best_fitness\n",
        "          improvements.append(improvement)\n",
        "\n",
        "      else:\n",
        "        worst_fitness = np.min(fitness_values)\n",
        "        results.append(worst_fitness)\n",
        "        print(\"Generation {}: Worst fitness = {:.4f}\".format(i+1, worst_fitness))\n",
        "\n",
        "        # Compute the improvement rate of the current generation\n",
        "        if i > 0:\n",
        "          prev_worst_fitness = results[-2]\n",
        "          improvement = (prev_worst_fitness - worst_fitness) / worst_fitness\n",
        "          improvements.append(improvement)\n",
        "\n",
        "  best_chromosome = []\n",
        "  best_fitness = 0\n",
        "  convergence_index = 0\n",
        "\n",
        "  if maximization:\n",
        "    # Select the best chromosome as the final solution\n",
        "    best_chromosome = population[np.argmax(results)]\n",
        "\n",
        "    # The highest value registered\n",
        "    best_fitness = np.max(results)\n",
        "\n",
        "    # Find the index where the best fitness value reaches a certain threshold\n",
        "    threshold = 0.99 * np.max(results)  # Convergende threshold\n",
        "    convergence_index = next((i for i, fitness in enumerate(results) if fitness >= threshold), None)\n",
        "\n",
        "  else:\n",
        "    # Select the best chromosome as the final solution\n",
        "    best_chromosome = population[np.argmin(results)]\n",
        "\n",
        "    # The lowest value registered\n",
        "    best_fitness = np.min(results)\n",
        "\n",
        "    # Find the index where the fitness value falls below or reaches the threshold\n",
        "    threshold = 1.01 * np.min(results)  # Convergence threshold\n",
        "    convergence_index = next((i for i, fitness in enumerate(results) if fitness <= threshold), None)\n",
        "\n",
        "  # Build the NN model with the best weights\n",
        "  best_weights = best_chromosome.reshape((num_features, num_classes))\n",
        "\n",
        "  # Record the results for this run\n",
        "  final_results = {\n",
        "        'best_fitness': best_fitness,\n",
        "        'convergence_rate': (convergence_index + 1) / num_generations * 100,\n",
        "        'run_time': time.time() - start_time,\n",
        "        'best_weights': ', '.join(str(value) for value in best_weights),\n",
        "        'avg_improvement_rate': np.average(improvements)\n",
        "  }\n",
        "\n",
        "  results = ', '.join(str(value) for value in results)\n",
        "\n",
        "  return final_results, results\n"
      ]
    },
    {
      "cell_type": "markdown",
      "metadata": {
        "id": "WG0lu8BhObpN"
      },
      "source": [
        "Additionally, we define the first set of parameters with which we will initially test the different genetic algorithms."
      ]
    },
    {
      "cell_type": "code",
      "execution_count": 16,
      "metadata": {
        "id": "wxiRptvePseV"
      },
      "outputs": [],
      "source": [
        "# Initialize the GA parameters\n",
        "pop_size = 30\n",
        "num_generations = 15\n",
        "mutation_rate = 0.08\n",
        "crossover_rate = 0.8\n",
        "elite_size = 3"
      ]
    },
    {
      "cell_type": "markdown",
      "metadata": {
        "id": "re4LCnxsak-L"
      },
      "source": [
        "For the purpose of our work, we will run each combination of genetic operators 5 times, since we are dealing with a certain degree of randomization. For each run, we will evaluate the algorithm based on the **best fitness value**, **convergence rate**, **diversity of the final population**, **computational efficiency**, and **improvement rate**. These results are then saved to an external excel sheet so that we can further analyze them. "
      ]
    },
    {
      "cell_type": "code",
      "execution_count": 17,
      "metadata": {
        "id": "qPCL2G5UetBz"
      },
      "outputs": [],
      "source": [
        "num_iterations = 3"
      ]
    },
    {
      "cell_type": "markdown",
      "metadata": {
        "id": "WgCQiQIkDwB0"
      },
      "source": [
        "### **GA1**"
      ]
    },
    {
      "cell_type": "markdown",
      "metadata": {
        "id": "Vhlvmb7EEm10"
      },
      "source": [
        "This first algorithm implements **Tournament Selection**, **Uniform Crossover**, and **Gaussian Mutation**."
      ]
    },
    {
      "cell_type": "code",
      "execution_count": null,
      "metadata": {
        "colab": {
          "base_uri": "https://localhost:8080/",
          "height": 236
        },
        "id": "HZhqfkY9g0Gl",
        "outputId": "c16007af-fa2f-4081-fa35-79e68ee8ee5d"
      },
      "outputs": [
        {
          "output_type": "error",
          "ename": "NameError",
          "evalue": "ignored",
          "traceback": [
            "\u001b[0;31m---------------------------------------------------------------------------\u001b[0m",
            "\u001b[0;31mNameError\u001b[0m                                 Traceback (most recent call last)",
            "\u001b[0;32m<ipython-input-9-eb6896b88114>\u001b[0m in \u001b[0;36m<cell line: 3>\u001b[0;34m()\u001b[0m\n\u001b[1;32m      4\u001b[0m \u001b[0;34m\u001b[0m\u001b[0m\n\u001b[1;32m      5\u001b[0m   \u001b[0;31m# Initialize the population of candidate solutions using Xavier initialization\u001b[0m\u001b[0;34m\u001b[0m\u001b[0;34m\u001b[0m\u001b[0m\n\u001b[0;32m----> 6\u001b[0;31m   \u001b[0mpopulation\u001b[0m \u001b[0;34m=\u001b[0m \u001b[0mxavier_init\u001b[0m\u001b[0;34m(\u001b[0m\u001b[0;34m(\u001b[0m\u001b[0mpop_size\u001b[0m\u001b[0;34m,\u001b[0m \u001b[0mnum_features\u001b[0m\u001b[0;34m,\u001b[0m \u001b[0mnum_classes\u001b[0m\u001b[0;34m)\u001b[0m\u001b[0;34m)\u001b[0m\u001b[0;34m.\u001b[0m\u001b[0mreshape\u001b[0m\u001b[0;34m(\u001b[0m\u001b[0;34m(\u001b[0m\u001b[0mpop_size\u001b[0m\u001b[0;34m,\u001b[0m \u001b[0mnum_features\u001b[0m\u001b[0;34m*\u001b[0m\u001b[0mnum_classes\u001b[0m\u001b[0;34m)\u001b[0m\u001b[0;34m)\u001b[0m\u001b[0;34m\u001b[0m\u001b[0;34m\u001b[0m\u001b[0m\n\u001b[0m\u001b[1;32m      7\u001b[0m \u001b[0;34m\u001b[0m\u001b[0m\n\u001b[1;32m      8\u001b[0m   \u001b[0mprint\u001b[0m\u001b[0;34m(\u001b[0m\u001b[0;34m\"----- Run\"\u001b[0m\u001b[0;34m,\u001b[0m \u001b[0mi\u001b[0m\u001b[0;34m+\u001b[0m\u001b[0;36m1\u001b[0m\u001b[0;34m,\u001b[0m \u001b[0;34m\"-----\"\u001b[0m\u001b[0;34m)\u001b[0m\u001b[0;34m\u001b[0m\u001b[0;34m\u001b[0m\u001b[0m\n",
            "\u001b[0;31mNameError\u001b[0m: name 'num_features' is not defined"
          ]
        }
      ],
      "source": [
        "GA1_results = []\n",
        "\n",
        "for i in range(num_iterations):\n",
        "\n",
        "  # Initialize the population of candidate solutions using Xavier initialization\n",
        "  population = xavier_init((pop_size, num_features, num_classes)).reshape((pop_size, num_features*num_classes))\n",
        "\n",
        "  print(\"----- Run\", i+1, \"-----\")\n",
        "  print()\n",
        "\n",
        "  GA1 = genetic_algorithm(population=population,\n",
        "                          maximization=True,\n",
        "                          fitness=fitness, \n",
        "                          selection=tournament_selection,\n",
        "                          crossover=uniform_crossover, \n",
        "                          mutation=gaussian_mutation, \n",
        "                          elitism=True, \n",
        "                          num_generations=num_generations, \n",
        "                          crossover_rate=crossover_rate, \n",
        "                          mutation_rate=mutation_rate,  \n",
        "                          elite_size=elite_size,\n",
        "                          selection_args={\"tournament_size\":5})\n",
        "\n",
        "  print()\n",
        "\n",
        "  GA1_results.append({\n",
        "        'run': i+1,\n",
        "        'best_fitness': GA1[0]['best_fitness'],\n",
        "        'convergence_rate': GA1[0]['convergence_rate'],\n",
        "        'run_time': GA1[0]['run_time'],\n",
        "        'best_weights': GA1[0]['best_weights'],\n",
        "        'avg_improvement_rate': GA1[0]['avg_improvement_rate'],\n",
        "        'results': GA1[1]\n",
        "  })\n",
        "  "
      ]
    },
    {
      "cell_type": "code",
      "execution_count": null,
      "metadata": {
        "id": "Um6bMyy-ppg-"
      },
      "outputs": [],
      "source": [
        "# Convert the results to a pandas DataFrame\n",
        "df = pd.DataFrame.from_dict(GA1_results)\n",
        "\n",
        "# Create a new Excel file\n",
        "workbook = Workbook()\n",
        "\n",
        "# Select the active worksheet\n",
        "worksheet = workbook.active\n",
        "\n",
        "# Set the title of the worksheet\n",
        "worksheet.title = 'GA1 Results'\n",
        "\n",
        "# Convert the DataFrame to a list of lists\n",
        "data = df.values.tolist()\n",
        "\n",
        "# Write the header row to the worksheet\n",
        "header = df.columns.tolist()\n",
        "worksheet.append(header)\n",
        "\n",
        "# Write the DataFrame to the worksheet\n",
        "for r in data:\n",
        "    worksheet.append(r)\n",
        "\n",
        "# Save the Excel file\n",
        "workbook.save('GA Results.xlsx')"
      ]
    },
    {
      "cell_type": "markdown",
      "metadata": {
        "id": "YYxByJdAD19r"
      },
      "source": [
        "### **GA2**"
      ]
    },
    {
      "cell_type": "markdown",
      "metadata": {
        "id": "D9RYI5NwNNWU"
      },
      "source": [
        "Our results seemed satisfactory, but we had nothing to which we could compare them. Here we completely switched gears and changed all three genetic parameters, implementing **Roulette Wheel Selection**, **Arithmetic Crossover**, and **Swap Mutation**."
      ]
    },
    {
      "cell_type": "code",
      "execution_count": null,
      "metadata": {
        "id": "nsLo8A56NN7e"
      },
      "outputs": [],
      "source": [
        "GA2_results = []\n",
        "\n",
        "for i in range(num_iterations):\n",
        "\n",
        "  # Initialize the population of candidate solutions using Xavier initialization\n",
        "  population = xavier_init((pop_size, num_features, num_classes)).reshape((pop_size, num_features*num_classes))\n",
        "\n",
        "  print(\"----- Run\", i+1, \"-----\")\n",
        "  print()\n",
        "\n",
        "  GA2 = genetic_algorithm(population=population,\n",
        "                          maximization=True,\n",
        "                          fitness=fitness,  \n",
        "                          selection=roulette_wheel_selection, \n",
        "                          crossover=arithmetic_crossover, \n",
        "                          mutation=swap_mutation, \n",
        "                          elitism=True, \n",
        "                          num_generations=num_generations, \n",
        "                          crossover_rate=crossover_rate, \n",
        "                          mutation_rate=mutation_rate, \n",
        "                          elite_size=elite_size)\n",
        "  \n",
        "  print()\n",
        "\n",
        "  GA2_results.append({\n",
        "        'run': i+1,\n",
        "        'best_fitness': GA2[0]['best_fitness'],\n",
        "        'convergence_rate': GA2[0]['convergence_rate'],\n",
        "        'run_time': GA2[0]['run_time'],\n",
        "        'best_weights': GA2[0]['best_weights'],\n",
        "        'avg_improvement_rate': GA2[0]['avg_improvement_rate'],\n",
        "        'results': GA2[1]\n",
        "  })"
      ]
    },
    {
      "cell_type": "code",
      "execution_count": null,
      "metadata": {
        "id": "tV1Z8url1TVx"
      },
      "outputs": [],
      "source": [
        "# Convert the results to a pandas DataFrame\n",
        "df2 = pd.DataFrame.from_dict(GA2_results)\n",
        "\n",
        "# Create a new Excel file\n",
        "workbook = Workbook()\n",
        "\n",
        "# Select the active worksheet\n",
        "worksheet = workbook.active\n",
        "\n",
        "# Set the title of the worksheet\n",
        "worksheet.title = 'GA2 Results'\n",
        "\n",
        "# Convert the DataFrame to a list of lists\n",
        "data = df2.values.tolist()\n",
        "\n",
        "# Write the header row to the worksheet\n",
        "header = df2.columns.tolist()\n",
        "worksheet.append(header)\n",
        "\n",
        "# Write the DataFrame to the worksheet\n",
        "for r in data:\n",
        "    worksheet.append(r)\n",
        "\n",
        "# Save the Excel file\n",
        "workbook.save('GA2 Results.xlsx')"
      ]
    },
    {
      "cell_type": "markdown",
      "metadata": {
        "id": "ni92qCgVv8yq"
      },
      "source": [
        "### **GA3**"
      ]
    },
    {
      "cell_type": "markdown",
      "source": [
        "Our algorithm seemed to prematurely converge and get stuck on a local optimum. We thought this might have been to roulette wheel selection, so here we implemented **Tournament Selection**, **Arithmetic Crossover**, and **Swap Mutation**."
      ],
      "metadata": {
        "id": "VSdjFYaorMpS"
      }
    },
    {
      "cell_type": "code",
      "execution_count": null,
      "metadata": {
        "id": "KrEfpz_DXnrR"
      },
      "outputs": [],
      "source": [
        "GA3_results = []\n",
        "\n",
        "for i in range(num_iterations):\n",
        "\n",
        "  # Initialize the population of candidate solutions using Xavier initialization\n",
        "  population = xavier_init((pop_size, num_features, num_classes)).reshape((pop_size, num_features*num_classes))\n",
        "\n",
        "  print(\"----- Run\", i+1, \"-----\")\n",
        "  print()\n",
        "\n",
        "  GA3 = genetic_algorithm(population=population,\n",
        "                          maximization=True, \n",
        "                          fitness=fitness, \n",
        "                          selection=tournament_selection,\n",
        "                          crossover=arithmetic_crossover, \n",
        "                          mutation=swap_mutation, \n",
        "                          elitism=True, \n",
        "                          num_generations=num_generations, \n",
        "                          crossover_rate=crossover_rate, \n",
        "                          mutation_rate=mutation_rate,  \n",
        "                          elite_size=elite_size,\n",
        "                          selection_args={\"tournament_size\":5})\n",
        "\n",
        "  print()\n",
        "\n",
        "  GA3_results.append({\n",
        "        'run': i+1,\n",
        "        'best_fitness': GA3[0]['best_fitness'],\n",
        "        'convergence_rate': GA3[0]['convergence_rate'],\n",
        "        'run_time': GA3[0]['run_time'],\n",
        "        'best_weights': GA3[0]['best_weights'],\n",
        "        'avg_improvement_rate': GA3[0]['avg_improvement_rate'],\n",
        "        'results': GA3[1]\n",
        "  })\n",
        "  "
      ]
    },
    {
      "cell_type": "code",
      "execution_count": null,
      "metadata": {
        "id": "AMF7sVUIm9ug"
      },
      "outputs": [],
      "source": [
        "# Convert the results to a pandas DataFrame\n",
        "df3 = pd.DataFrame.from_dict(GA3_results)\n",
        "\n",
        "# Create a new Excel file\n",
        "workbook = Workbook()\n",
        "\n",
        "# Select the active worksheet\n",
        "worksheet = workbook.active\n",
        "\n",
        "# Set the title of the worksheet\n",
        "worksheet.title = 'GA3 Results'\n",
        "\n",
        "# Convert the DataFrame to a list of lists\n",
        "data = df3.values.tolist()\n",
        "\n",
        "# Write the header row to the worksheet\n",
        "header = df3.columns.tolist()\n",
        "worksheet.append(header)\n",
        "\n",
        "# Write the DataFrame to the worksheet\n",
        "for r in data:\n",
        "    worksheet.append(r)\n",
        "\n",
        "# Save the Excel file\n",
        "workbook.save('GA3 Results.xlsx')"
      ]
    },
    {
      "cell_type": "markdown",
      "metadata": {
        "id": "SRhuVrtayUyx"
      },
      "source": [
        "### **GA4**"
      ]
    },
    {
      "cell_type": "markdown",
      "source": [
        "While not getting stuck on local optima, the results did not show great signs of improvement either. Thus, we decided to implement a more agressive mutation method, combining **Tournament Selection**, **Arithmetic Crossover**, and **Inversion Mutation**."
      ],
      "metadata": {
        "id": "gcArLsxgrWpJ"
      }
    },
    {
      "cell_type": "code",
      "execution_count": null,
      "metadata": {
        "id": "T-erOBSxxeYG"
      },
      "outputs": [],
      "source": [
        "GA4_results = []\n",
        "\n",
        "for i in range(num_iterations):\n",
        "\n",
        "  # Initialize the population of candidate solutions using Xavier initialization\n",
        "  population = xavier_init((pop_size, num_features, num_classes)).reshape((pop_size, num_features*num_classes))\n",
        "\n",
        "  print(\"----- Run\", i+1, \"-----\")\n",
        "  print()\n",
        "\n",
        "  GA4 = genetic_algorithm(population=population,\n",
        "                          maximization=True,\n",
        "                          fitness=fitness,  \n",
        "                          selection=tournament_selection,\n",
        "                          crossover=arithmetic_crossover, \n",
        "                          mutation=inversion_mutation, \n",
        "                          elitism=True, \n",
        "                          num_generations=num_generations, \n",
        "                          crossover_rate=crossover_rate, \n",
        "                          mutation_rate=mutation_rate,  \n",
        "                          elite_size=elite_size,\n",
        "                          selection_args={\"tournament_size\":5})\n",
        "\n",
        "  print()\n",
        "\n",
        "  GA4_results.append({\n",
        "        'run': i+1,\n",
        "        'best_fitness': GA4[0]['best_fitness'],\n",
        "        'convergence_rate': GA4[0]['convergence_rate'],\n",
        "        'run_time': GA4[0]['run_time'],\n",
        "        'best_weights': GA4[0]['best_weights'],\n",
        "        'avg_improvement_rate': GA4[0]['avg_improvement_rate'],\n",
        "        'results': GA4[1]\n",
        "  })\n",
        "  "
      ]
    },
    {
      "cell_type": "code",
      "execution_count": null,
      "metadata": {
        "id": "tYZkdtYoyTox"
      },
      "outputs": [],
      "source": [
        "# Convert the results to a pandas DataFrame\n",
        "df4 = pd.DataFrame.from_dict(GA4_results)\n",
        "\n",
        "# Create a new Excel file\n",
        "workbook = Workbook()\n",
        "\n",
        "# Select the active worksheet\n",
        "worksheet = workbook.active\n",
        "\n",
        "# Set the title of the worksheet\n",
        "worksheet.title = 'GA4 Results'\n",
        "\n",
        "# Convert the DataFrame to a list of lists\n",
        "data = df4.values.tolist()\n",
        "\n",
        "# Write the header row to the worksheet\n",
        "header = df4.columns.tolist()\n",
        "worksheet.append(header)\n",
        "\n",
        "# Write the DataFrame to the worksheet\n",
        "for r in data:\n",
        "    worksheet.append(r)\n",
        "\n",
        "# Save the Excel file\n",
        "workbook.save('GA4 Results.xlsx')"
      ]
    },
    {
      "cell_type": "markdown",
      "metadata": {
        "id": "v8Ylcov86WMv"
      },
      "source": [
        "### **GA5**"
      ]
    },
    {
      "cell_type": "markdown",
      "source": [
        "We still weren't getting results neraly as good as with our first combination. Nonetheless, we wanted to experiment with other unused operators. The fifth algorithm implements **Tournament Selection**, **Single-Point Crossover**, and **Inversion Mutation**."
      ],
      "metadata": {
        "id": "aCb6UYIRrgi-"
      }
    },
    {
      "cell_type": "code",
      "execution_count": null,
      "metadata": {
        "id": "2fPZTISm5zy8"
      },
      "outputs": [],
      "source": [
        "GA5_results = []\n",
        "\n",
        "for i in range(num_iterations):\n",
        "\n",
        "  # Initialize the population of candidate solutions using Xavier initialization\n",
        "  population = xavier_init((pop_size, num_features, num_classes)).reshape((pop_size, num_features*num_classes))\n",
        "\n",
        "  print(\"----- Run\", i+1, \"-----\")\n",
        "  print()\n",
        "\n",
        "  GA5 = genetic_algorithm(population=population,\n",
        "                          maximization=True, \n",
        "                          fitness=fitness, \n",
        "                          selection=tournament_selection,\n",
        "                          crossover=single_point_crossover, \n",
        "                          mutation=inversion_mutation, \n",
        "                          elitism=True, \n",
        "                          num_generations=num_generations, \n",
        "                          crossover_rate=crossover_rate, \n",
        "                          mutation_rate=mutation_rate,  \n",
        "                          elite_size=elite_size,\n",
        "                          selection_args={\"tournament_size\":5})\n",
        "\n",
        "  print()\n",
        "\n",
        "  GA5_results.append({\n",
        "        'run': i+1,\n",
        "        'best_fitness': GA5[0]['best_fitness'],\n",
        "        'convergence_rate': GA5[0]['convergence_rate'],\n",
        "        'run_time': GA5[0]['run_time'],\n",
        "        'best_weights': GA5[0]['best_weights'],\n",
        "        'avg_improvement_rate': GA5[0]['avg_improvement_rate'],\n",
        "        'results': GA5[1]\n",
        "  })\n",
        "  "
      ]
    },
    {
      "cell_type": "code",
      "execution_count": null,
      "metadata": {
        "id": "QsXDQSFw6ZDK"
      },
      "outputs": [],
      "source": [
        "# Convert the results to a pandas DataFrame\n",
        "df5 = pd.DataFrame.from_dict(GA5_results)\n",
        "\n",
        "# Create a new Excel file\n",
        "workbook = Workbook()\n",
        "\n",
        "# Select the active worksheet\n",
        "worksheet = workbook.active\n",
        "\n",
        "# Set the title of the worksheet\n",
        "worksheet.title = 'GA5 Results'\n",
        "\n",
        "# Convert the DataFrame to a list of lists\n",
        "data = df5.values.tolist()\n",
        "\n",
        "# Write the header row to the worksheet\n",
        "header = df5.columns.tolist()\n",
        "worksheet.append(header)\n",
        "\n",
        "# Write the DataFrame to the worksheet\n",
        "for r in data:\n",
        "    worksheet.append(r)\n",
        "\n",
        "# Save the Excel file\n",
        "workbook.save('GA5 Results.xlsx')"
      ]
    },
    {
      "cell_type": "markdown",
      "metadata": {
        "id": "y3jtyZ3NUZV-"
      },
      "source": [
        "### **GA6**"
      ]
    },
    {
      "cell_type": "markdown",
      "source": [
        "Up until this point, we mainly implemented tournament selection. So what if we went back to the GA1 combination, but switched the selection method? GA6 combines **Roulette Wheel Selection**, **Uniform Crossover**, and **Gaussian Mutation**."
      ],
      "metadata": {
        "id": "fuzBiSIsrm5y"
      }
    },
    {
      "cell_type": "code",
      "execution_count": null,
      "metadata": {
        "id": "scrAi1a6PGqZ"
      },
      "outputs": [],
      "source": [
        "GA6_results = []\n",
        "\n",
        "for i in range(num_iterations):\n",
        "\n",
        "  # Initialize the population of candidate solutions using Xavier initialization\n",
        "  population = xavier_init((pop_size, num_features, num_classes)).reshape((pop_size, num_features*num_classes))\n",
        "\n",
        "  print(\"----- Run\", i+1, \"-----\")\n",
        "  print()\n",
        "\n",
        "  GA6 = genetic_algorithm(population=population,\n",
        "                          maximization=True, \n",
        "                          fitness=fitness, \n",
        "                          selection=roulette_wheel_selection,\n",
        "                          crossover=uniform_crossover, \n",
        "                          mutation=gaussian_mutation, \n",
        "                          elitism=True, \n",
        "                          num_generations=num_generations, \n",
        "                          crossover_rate=crossover_rate, \n",
        "                          mutation_rate=mutation_rate,  \n",
        "                          elite_size=elite_size)\n",
        "\n",
        "  print()\n",
        "\n",
        "  GA6_results.append({\n",
        "        'run': i+1,\n",
        "        'best_fitness': GA6[0]['best_fitness'],\n",
        "        'convergence_rate': GA6[0]['convergence_rate'],\n",
        "        'run_time': GA6[0]['run_time'],\n",
        "        'best_weights': GA6[0]['best_weights'],\n",
        "        'avg_improvement_rate': GA6[0]['avg_improvement_rate'],\n",
        "        'results': GA6[1]\n",
        "  })\n",
        "  "
      ]
    },
    {
      "cell_type": "code",
      "execution_count": null,
      "metadata": {
        "id": "R71paxzWUeCP"
      },
      "outputs": [],
      "source": [
        "# Convert the results to a pandas DataFrame\n",
        "df6 = pd.DataFrame.from_dict(GA6_results)\n",
        "\n",
        "# Create a new Excel file\n",
        "workbook = Workbook()\n",
        "\n",
        "# Select the active worksheet\n",
        "worksheet = workbook.active\n",
        "\n",
        "# Set the title of the worksheet\n",
        "worksheet.title = 'GA6 Results'\n",
        "\n",
        "# Convert the DataFrame to a list of lists\n",
        "data = df6.values.tolist()\n",
        "\n",
        "# Write the header row to the worksheet\n",
        "header = df6.columns.tolist()\n",
        "worksheet.append(header)\n",
        "\n",
        "# Write the DataFrame to the worksheet\n",
        "for r in data:\n",
        "    worksheet.append(r)\n",
        "\n",
        "# Save the Excel file\n",
        "workbook.save('GA6 Results.xlsx')"
      ]
    },
    {
      "cell_type": "markdown",
      "metadata": {
        "id": "_kWcPSLGcwxH"
      },
      "source": [
        "### **GA7**"
      ]
    },
    {
      "cell_type": "markdown",
      "source": [
        "Because our first implementation was generating unquestionably better results, for the seventh algorithm we went back to utilizing **Tournament Selection**, **Uniform Crossover**, and **Gaussian Mutation**, but with a slight twist. When mutating a chromosome, rather than mutating just one single gene at random, we iterated through the whole chromosome and transformed multiple genes. We called this function *gaussian_mutation_2*."
      ],
      "metadata": {
        "id": "eF0YxT0ertNK"
      }
    },
    {
      "cell_type": "code",
      "execution_count": null,
      "metadata": {
        "id": "VanEnSZEcsUd"
      },
      "outputs": [],
      "source": [
        "GA7_results = []\n",
        "\n",
        "for i in range(num_iterations):\n",
        "\n",
        "  # Initialize the population of candidate solutions using Xavier initialization\n",
        "  population = xavier_init((pop_size, num_features, num_classes)).reshape((pop_size, num_features*num_classes))\n",
        "\n",
        "  print(\"----- Run\", i+1, \"-----\")\n",
        "  print()\n",
        "\n",
        "  GA7 = genetic_algorithm(population=population, \n",
        "                          maximization=True,\n",
        "                          fitness=fitness, \n",
        "                          selection=tournament_selection,\n",
        "                          crossover=uniform_crossover, \n",
        "                          mutation=gaussian_mutation_2, \n",
        "                          elitism=True, \n",
        "                          num_generations=num_generations, \n",
        "                          crossover_rate=crossover_rate, \n",
        "                          mutation_rate=mutation_rate,  \n",
        "                          elite_size=elite_size,\n",
        "                          selection_args={\"tournament_size\":5},\n",
        "                          mutation_args={\"mut_rt\":0.8})\n",
        "\n",
        "  print()\n",
        "\n",
        "  GA7_results.append({\n",
        "        'run': i+1,\n",
        "        'best_fitness': GA7[0]['best_fitness'],\n",
        "        'convergence_rate': GA7[0]['convergence_rate'],\n",
        "        'run_time': GA7[0]['run_time'],\n",
        "        'best_weights': GA7[0]['best_weights'],\n",
        "        'avg_improvement_rate': GA7[0]['avg_improvement_rate'],\n",
        "        'results': GA7[1]\n",
        "  })\n",
        "  "
      ]
    },
    {
      "cell_type": "code",
      "execution_count": null,
      "metadata": {
        "id": "0k0mqwyoc6F0"
      },
      "outputs": [],
      "source": [
        "# Convert the results to a pandas DataFrame\n",
        "df7 = pd.DataFrame.from_dict(GA7_results)\n",
        "\n",
        "# Create a new Excel file\n",
        "workbook = Workbook()\n",
        "\n",
        "# Select the active worksheet\n",
        "worksheet = workbook.active\n",
        "\n",
        "# Set the title of the worksheet\n",
        "worksheet.title = 'GA7 Results'\n",
        "\n",
        "# Convert the DataFrame to a list of lists\n",
        "data = df7.values.tolist()\n",
        "\n",
        "# Write the header row to the worksheet\n",
        "header = df7.columns.tolist()\n",
        "worksheet.append(header)\n",
        "\n",
        "# Write the DataFrame to the worksheet\n",
        "for r in data:\n",
        "    worksheet.append(r)\n",
        "\n",
        "# Save the Excel file\n",
        "workbook.save('GA7 Results.xlsx')"
      ]
    },
    {
      "cell_type": "markdown",
      "metadata": {
        "id": "ZNpHCyboXl41"
      },
      "source": [
        "### **GA8**"
      ]
    },
    {
      "cell_type": "markdown",
      "source": [
        "While the results were very similar to GA1's, we still wanted an algorithm that could perform better. GA8 implements a combination of rank-based selection and tournament selection, called **Rank-Tournament Selection**. We sought to both explore and exploit our solutions, switching between both selection methods throughout the algorithm. This method was combined with **Uniform Crossover** and **Gaussian Mutation 2**. Furthermore, we raised our **crossover rate to 0.9** and **mutation rate to 0.1**, to increase exploration."
      ],
      "metadata": {
        "id": "3NqqU7nGt-kE"
      }
    },
    {
      "cell_type": "code",
      "execution_count": null,
      "metadata": {
        "id": "geiZUx5CHm2u"
      },
      "outputs": [],
      "source": [
        "GA8_results = []\n",
        "\n",
        "for i in range(num_iterations):\n",
        "\n",
        "  # Initialize the population of candidate solutions using Xavier initialization\n",
        "  population = xavier_init((pop_size, num_features, num_classes)).reshape((pop_size, num_features*num_classes))\n",
        "\n",
        "  print(\"----- Run\", i+1, \"-----\")\n",
        "  print()\n",
        "\n",
        "  GA8 = genetic_algorithm(population=population, \n",
        "                          maximization=True,\n",
        "                          fitness=fitness, \n",
        "                          selection=rank_tournament_selection,\n",
        "                          crossover=uniform_crossover, \n",
        "                          mutation=gaussian_mutation_2, \n",
        "                          elitism=True, \n",
        "                          num_generations=num_generations, \n",
        "                          crossover_rate=0.9, \n",
        "                          mutation_rate=0.1,  \n",
        "                          elite_size=elite_size,\n",
        "                          selection_args={\"tournament_size\":5},\n",
        "                          mutation_args={\"mut_rt\":0.8})\n",
        "\n",
        "  print()\n",
        "\n",
        "  GA8_results.append({\n",
        "        'run': i+1,\n",
        "        'best_fitness': GA8[0]['best_fitness'],\n",
        "        'convergence_rate': GA8[0]['convergence_rate'],\n",
        "        'run_time': GA8[0]['run_time'],\n",
        "        'best_weights': GA8[0]['best_weights'],\n",
        "        'avg_improvement_rate': GA8[0]['avg_improvement_rate'],\n",
        "        'results': GA8[1]\n",
        "  })\n",
        "  "
      ]
    },
    {
      "cell_type": "code",
      "execution_count": null,
      "metadata": {
        "id": "gZ83z31FX1UU"
      },
      "outputs": [],
      "source": [
        "# Convert the results to a pandas DataFrame\n",
        "df8 = pd.DataFrame.from_dict(GA8_results)\n",
        "\n",
        "# Create a new Excel file\n",
        "workbook = Workbook()\n",
        "\n",
        "# Select the active worksheet\n",
        "worksheet = workbook.active\n",
        "\n",
        "# Set the title of the worksheet\n",
        "worksheet.title = 'GA8 Results'\n",
        "\n",
        "# Convert the DataFrame to a list of lists\n",
        "data = df8.values.tolist()\n",
        "\n",
        "# Write the header row to the worksheet\n",
        "header = df8.columns.tolist()\n",
        "worksheet.append(header)\n",
        "\n",
        "# Write the DataFrame to the worksheet\n",
        "for r in data:\n",
        "    worksheet.append(r)\n",
        "\n",
        "# Save the Excel file\n",
        "workbook.save('GA8 Results.xlsx')"
      ]
    },
    {
      "cell_type": "markdown",
      "source": [
        "### **GA9**"
      ],
      "metadata": {
        "id": "LX_w8y_tbviv"
      }
    },
    {
      "cell_type": "markdown",
      "source": [
        "Still not obtaining better results, we wanted to do one last experiment, utilizing a completely new operator. GA9 implements **Rank-Tournament Selection**, **Double-Point Crossover**, and **Gaussian Mutation 2**. The hyperparameter values were the same as in GA8."
      ],
      "metadata": {
        "id": "SOuZIeh-Q7sP"
      }
    },
    {
      "cell_type": "code",
      "source": [
        "GA9_results = []\n",
        "\n",
        "for i in range(num_iterations):\n",
        "\n",
        "  # Initialize the population of candidate solutions using Xavier initialization\n",
        "  population = xavier_init((pop_size, num_features, num_classes)).reshape((pop_size, num_features*num_classes))\n",
        "\n",
        "  print(\"----- Run\", i+1, \"-----\")\n",
        "  print()\n",
        "\n",
        "  GA9 = genetic_algorithm(population=population, \n",
        "                          maximization=True,\n",
        "                          fitness=fitness, \n",
        "                          selection=rank_tournament_selection,\n",
        "                          crossover=double_point_crossover, \n",
        "                          mutation=gaussian_mutation_2, \n",
        "                          elitism=True, \n",
        "                          num_generations=num_generations, \n",
        "                          crossover_rate=0.9, \n",
        "                          mutation_rate=0.1,  \n",
        "                          elite_size=elite_size,\n",
        "                          selection_args={\"tournament_size\":5},\n",
        "                          mutation_args={\"mut_rt\":0.8})\n",
        "\n",
        "  print()\n",
        "\n",
        "  GA9_results.append({\n",
        "        'run': i+1,\n",
        "        'best_fitness': GA9[0]['best_fitness'],\n",
        "        'convergence_rate': GA9[0]['convergence_rate'],\n",
        "        'run_time': GA9[0]['run_time'],\n",
        "        'best_weights': GA9[0]['best_weights'],\n",
        "        'avg_improvement_rate': GA9[0]['avg_improvement_rate'],\n",
        "        'results': GA9[1]\n",
        "  })"
      ],
      "metadata": {
        "id": "XP277TfAwCBM"
      },
      "execution_count": null,
      "outputs": []
    },
    {
      "cell_type": "code",
      "source": [
        "# Convert the results to a pandas DataFrame\n",
        "df9 = pd.DataFrame.from_dict(GA9_results)\n",
        "\n",
        "# Create a new Excel file\n",
        "workbook = Workbook()\n",
        "\n",
        "# Select the active worksheet\n",
        "worksheet = workbook.active\n",
        "\n",
        "# Set the title of the worksheet\n",
        "worksheet.title = 'GA9 Results'\n",
        "\n",
        "# Convert the DataFrame to a list of lists\n",
        "data = df9.values.tolist()\n",
        "\n",
        "# Write the header row to the worksheet\n",
        "header = df9.columns.tolist()\n",
        "worksheet.append(header)\n",
        "\n",
        "# Write the DataFrame to the worksheet\n",
        "for r in data:\n",
        "    worksheet.append(r)\n",
        "\n",
        "# Save the Excel file\n",
        "workbook.save('GA9 Results.xlsx')"
      ],
      "metadata": {
        "id": "24U3hnoDiy-R"
      },
      "execution_count": null,
      "outputs": []
    },
    {
      "cell_type": "markdown",
      "source": [
        "## **Particle Swarm Optimization**"
      ],
      "metadata": {
        "id": "HgQZEZF3kdcP"
      }
    },
    {
      "cell_type": "markdown",
      "source": [
        "As an addition to our project, we decided to implement **Particle Swarm Optimization**. Some advantages of applying PSO rather than a GA to this type of problem would be the former's tendency to **converge faster to optimal solutions**, without getting stuck in a local optimum. Additionally, it is efficient, requiring **less parameter tuning**, and it is adequate for **continuous optimization**."
      ],
      "metadata": {
        "id": "NldQSqMB6kgH"
      }
    },
    {
      "cell_type": "code",
      "source": [
        "num_particles = 30\n",
        "num_generations = 15\n",
        "inertia_weight = 0.9\n",
        "cognitive_weight = 0.5\n",
        "social_weight = 0.5\n"
      ],
      "metadata": {
        "id": "L7r_D3qGR4fl"
      },
      "execution_count": null,
      "outputs": []
    },
    {
      "cell_type": "code",
      "source": [
        "def particle_swarm_optimization(particles, num_particles, num_generations, inertia_weight, cognitive_weight, social_weight):\n",
        "    \n",
        "    # This dictionary will store the metrics we will use to evaluate the models\n",
        "    final_results = {}\n",
        "\n",
        "    # This array will store the best fitness registered in each generation\n",
        "    results = []\n",
        "\n",
        "    # This array will register how each generation improved compared to the previous one\n",
        "    improvements = []\n",
        "    \n",
        "    # Initialize the particles\n",
        "    velocities = np.zeros_like(particles) #initializes the velocities of the particles as an array of zeros, with the same shape as the particles array\n",
        "    best_positions = particles.copy()\n",
        "    best_fitnesses = np.zeros(num_particles) #initializes an array of zeros with a length equal to the number of particles. \n",
        "\n",
        "    global_best_position = best_positions[0].copy()\n",
        "    global_best_fitness = float('inf')\n",
        "\n",
        "    # Run the iterations\n",
        "    global_best_index = 0\n",
        "    start_time = time.time()\n",
        "    for iteration in range(num_generations):\n",
        "        for i in range(num_particles): #nested loop that iterates over each particle in the swarm.\n",
        "            particle = particles[i]\n",
        "            velocity = velocities[i]\n",
        "            # Update the particle velocity\n",
        "            new_velocity = (\n",
        "                inertia_weight * velocity +\n",
        "                cognitive_weight * np.random.rand() * (best_positions[i] - particle) + #cognitive component, considers the personal best\n",
        "                social_weight * np.random.rand() * (best_positions[global_best_index] - particle) #social component, considers the global best\n",
        "            )\n",
        "            velocities[i] = new_velocity\n",
        "\n",
        "            # Update the particle position\n",
        "            new_particle = particle + new_velocity\n",
        "            particles[i] = new_particle\n",
        "\n",
        "            # Evaluate the fitness of each particle in the population\n",
        "            particle_fitness = fitness(new_particle)\n",
        "\n",
        "            if particle_fitness > best_fitnesses[i]: #updating local best\n",
        "                best_positions[i] = new_particle\n",
        "                best_fitnesses[i] = particle_fitness\n",
        "\n",
        "                # Update the global best index\n",
        "                if particle_fitness > best_fitnesses[global_best_index]:\n",
        "                    global_best_index = i\n",
        "\n",
        "        # Print the best fitness value in the current iteration\n",
        "        global_best_fitness = best_fitnesses[global_best_index]\n",
        "        results.append(global_best_fitness)\n",
        "        print(\"Iteration {}: Best fitness = {:.4f}\".format(iteration + 1, global_best_fitness))\n",
        "\n",
        "        # Compute the improvement rate of the current generation\n",
        "        if iteration > 0:\n",
        "          prev_best_fitness = results[-2]\n",
        "          improvement = (global_best_fitness - prev_best_fitness) / prev_best_fitness\n",
        "          improvements.append(improvement)\n",
        "    \n",
        "    # Record the results for this run\n",
        "    run_time = time.time() - start_time\n",
        "    best_weights = best_positions[global_best_index]\n",
        "    \n",
        "    # Find the index where the best fitness value reaches a certain threshold\n",
        "    threshold = 0.99 * np.max(results)  # Convergende threshold\n",
        "    convergence_index = next((i for i, fitness in enumerate(results) if fitness >= threshold), None)\n",
        "    \n",
        "    final_results = {\n",
        "        'best_fitness': global_best_fitness,\n",
        "        'convergence_rate': (convergence_index + 1) / num_generations * 100,\n",
        "        'run_time': run_time,\n",
        "        'best_weights': best_weights,\n",
        "        'avg_improvement_rate': np.average(improvements)\n",
        "    }\n",
        "\n",
        "    results = ', '.join(str(value) for value in results)\n",
        "\n",
        "    return final_results, results"
      ],
      "metadata": {
        "id": "SRyDTCwzQ7Te"
      },
      "execution_count": null,
      "outputs": []
    },
    {
      "cell_type": "code",
      "source": [
        "PS_results = []\n",
        "\n",
        "for i in range(num_iterations):\n",
        "\n",
        "  # Initialize the population of candidate solutions using Xavier initialization\n",
        "  particles = xavier_init((pop_size, num_features, num_classes)).reshape((pop_size, num_features*num_classes))\n",
        "\n",
        "  print(\"----- Run\", i+1, \"-----\")\n",
        "  print()\n",
        "\n",
        "  PS = particle_swarm_optimization(particles=particles, \n",
        "                                 num_particles=num_particles, \n",
        "                                 num_generations=num_generations, \n",
        "                                 inertia_weight=inertia_weight,\n",
        "                                 cognitive_weight=cognitive_weight, \n",
        "                                 social_weight=social_weight)\n",
        "\n",
        "  print()\n",
        "\n",
        "  PS_results.append({\n",
        "        'run': i+1,\n",
        "        'best_fitness': PS[0]['best_fitness'],\n",
        "        'convergence_rate': PS[0]['convergence_rate'],\n",
        "        'run_time': PS[0]['run_time'],\n",
        "        'best_weights': PS[0]['best_weights'],\n",
        "        'avg_improvement_rate': PS[0]['avg_improvement_rate'],\n",
        "        'results':PS[1]\n",
        "    })"
      ],
      "metadata": {
        "colab": {
          "base_uri": "https://localhost:8080/"
        },
        "id": "cuxqV4rNSzzg",
        "outputId": "ba2b0fc6-f8d3-45d5-e758-dbcd5bf9269b"
      },
      "execution_count": null,
      "outputs": [
        {
          "output_type": "stream",
          "name": "stdout",
          "text": [
            "----- Run 1 -----\n",
            "\n",
            "Iteration 1: Best fitness = 0.1422\n",
            "Iteration 2: Best fitness = 0.1508\n",
            "Iteration 3: Best fitness = 0.1528\n",
            "Iteration 4: Best fitness = 0.1610\n",
            "Iteration 5: Best fitness = 0.1679\n",
            "Iteration 6: Best fitness = 0.1741\n",
            "Iteration 7: Best fitness = 0.1806\n",
            "Iteration 8: Best fitness = 0.1906\n",
            "Iteration 9: Best fitness = 0.1941\n",
            "Iteration 10: Best fitness = 0.1958\n",
            "Iteration 11: Best fitness = 0.2033\n",
            "Iteration 12: Best fitness = 0.2034\n",
            "Iteration 13: Best fitness = 0.2059\n",
            "Iteration 14: Best fitness = 0.2059\n",
            "Iteration 15: Best fitness = 0.2069\n",
            "\n",
            "----- Run 2 -----\n",
            "\n",
            "Iteration 1: Best fitness = 0.1358\n",
            "Iteration 2: Best fitness = 0.1456\n",
            "Iteration 3: Best fitness = 0.1498\n",
            "Iteration 4: Best fitness = 0.1542\n",
            "Iteration 5: Best fitness = 0.1610\n",
            "Iteration 6: Best fitness = 0.1705\n",
            "Iteration 7: Best fitness = 0.1751\n",
            "Iteration 8: Best fitness = 0.1772\n",
            "Iteration 9: Best fitness = 0.1876\n",
            "Iteration 10: Best fitness = 0.1903\n",
            "Iteration 11: Best fitness = 0.1936\n",
            "Iteration 12: Best fitness = 0.1978\n",
            "Iteration 13: Best fitness = 0.1991\n",
            "Iteration 14: Best fitness = 0.2015\n",
            "Iteration 15: Best fitness = 0.2035\n",
            "\n",
            "----- Run 3 -----\n",
            "\n",
            "Iteration 1: Best fitness = 0.1260\n",
            "Iteration 2: Best fitness = 0.1314\n",
            "Iteration 3: Best fitness = 0.1371\n",
            "Iteration 4: Best fitness = 0.1499\n",
            "Iteration 5: Best fitness = 0.1541\n",
            "Iteration 6: Best fitness = 0.1609\n",
            "Iteration 7: Best fitness = 0.1656\n",
            "Iteration 8: Best fitness = 0.1656\n",
            "Iteration 9: Best fitness = 0.1673\n",
            "Iteration 10: Best fitness = 0.1688\n",
            "Iteration 11: Best fitness = 0.1700\n",
            "Iteration 12: Best fitness = 0.1718\n",
            "Iteration 13: Best fitness = 0.1735\n",
            "Iteration 14: Best fitness = 0.1757\n",
            "Iteration 15: Best fitness = 0.1767\n",
            "\n"
          ]
        }
      ]
    },
    {
      "cell_type": "code",
      "source": [
        "# Convert the results to a pandas DataFrame\n",
        "df10 = pd.DataFrame.from_dict(PS_results)\n",
        "\n",
        "df10['best_weights'] = df10['best_weights'].apply(lambda x: ', '.join(str(value) for value in x))\n",
        "\n",
        "# Create a new Excel file\n",
        "workbook = Workbook()\n",
        "\n",
        "# Select the active worksheet\n",
        "worksheet = workbook.active\n",
        "\n",
        "# Set the title of the worksheet\n",
        "worksheet.title = 'PS Results'\n",
        "\n",
        "# Convert the DataFrame to a list of lists\n",
        "data = df10.values.tolist()\n",
        "\n",
        "# Write the header row to the worksheet\n",
        "header = df10.columns.tolist()\n",
        "worksheet.append(header)\n",
        "\n",
        "# Write the DataFrame to the worksheet\n",
        "for r in data:\n",
        "    worksheet.append(r)\n",
        "\n",
        "# Save the Excel file\n",
        "workbook.save('PS Results.xlsx')\n",
        "\n",
        "from google.colab import files\n",
        "files.download('PS Results.xlsx')"
      ],
      "metadata": {
        "id": "JFb2roa3kn5R",
        "colab": {
          "base_uri": "https://localhost:8080/",
          "height": 17
        },
        "outputId": "184dea42-f6e3-4097-b618-a6df66df50a8"
      },
      "execution_count": null,
      "outputs": [
        {
          "output_type": "display_data",
          "data": {
            "text/plain": [
              "<IPython.core.display.Javascript object>"
            ],
            "application/javascript": [
              "\n",
              "    async function download(id, filename, size) {\n",
              "      if (!google.colab.kernel.accessAllowed) {\n",
              "        return;\n",
              "      }\n",
              "      const div = document.createElement('div');\n",
              "      const label = document.createElement('label');\n",
              "      label.textContent = `Downloading \"${filename}\": `;\n",
              "      div.appendChild(label);\n",
              "      const progress = document.createElement('progress');\n",
              "      progress.max = size;\n",
              "      div.appendChild(progress);\n",
              "      document.body.appendChild(div);\n",
              "\n",
              "      const buffers = [];\n",
              "      let downloaded = 0;\n",
              "\n",
              "      const channel = await google.colab.kernel.comms.open(id);\n",
              "      // Send a message to notify the kernel that we're ready.\n",
              "      channel.send({})\n",
              "\n",
              "      for await (const message of channel.messages) {\n",
              "        // Send a message to notify the kernel that we're ready.\n",
              "        channel.send({})\n",
              "        if (message.buffers) {\n",
              "          for (const buffer of message.buffers) {\n",
              "            buffers.push(buffer);\n",
              "            downloaded += buffer.byteLength;\n",
              "            progress.value = downloaded;\n",
              "          }\n",
              "        }\n",
              "      }\n",
              "      const blob = new Blob(buffers, {type: 'application/binary'});\n",
              "      const a = document.createElement('a');\n",
              "      a.href = window.URL.createObjectURL(blob);\n",
              "      a.download = filename;\n",
              "      div.appendChild(a);\n",
              "      a.click();\n",
              "      div.remove();\n",
              "    }\n",
              "  "
            ]
          },
          "metadata": {}
        },
        {
          "output_type": "display_data",
          "data": {
            "text/plain": [
              "<IPython.core.display.Javascript object>"
            ],
            "application/javascript": [
              "download(\"download_cbd3945a-4cd1-4095-9aaa-f50fe86f7fe4\", \"PS Results.xlsx\", 34689)"
            ]
          },
          "metadata": {}
        }
      ]
    },
    {
      "cell_type": "markdown",
      "source": [
        "## **Results**"
      ],
      "metadata": {
        "id": "OeNHaCRTk35g"
      }
    },
    {
      "cell_type": "markdown",
      "source": [
        "### **Plot comparison against iterations (Average Best Fitness)**"
      ],
      "metadata": {
        "id": "OnC3QjnsZBoU"
      }
    },
    {
      "cell_type": "code",
      "source": [
        "def plot_means_from_excel(sheet_names):\n",
        "    # Upload Excel file\n",
        "    uploaded = files.upload()\n",
        "    file_name = list(uploaded.keys())[0]\n",
        "\n",
        "    # Read data from Excel file for each sheet\n",
        "    average_dfs = []\n",
        "    for sheet_name in sheet_names:\n",
        "        GA1_results = pd.read_excel(file_name, sheet_name=sheet_name)\n",
        "\n",
        "        # Split the 'results' column values and create separate columns\n",
        "        results_df = pd.DataFrame(GA1_results['results'].str.split(',').tolist(), dtype=float)\n",
        "        \n",
        "        # Calculate the average of each column\n",
        "        average_values = results_df.mean(axis=0)\n",
        "\n",
        "        # Create a DataFrame to store average values and their column indices\n",
        "        averages_df = pd.DataFrame({'Column': range(1, len(average_values) + 1), 'Average': average_values})\n",
        "\n",
        "        average_dfs.append(averages_df)\n",
        "  \n",
        "    # Plot the average values for each sheet\n",
        "    plt.figure(figsize=(12, 6))\n",
        "    for averages_df in average_dfs:\n",
        "        plt.plot(averages_df['Column'], averages_df['Average'])\n",
        "\n",
        "    plt.xlabel('Generations')\n",
        "    plt.ylabel('Average Fitness')\n",
        "    plt.title('Average value of generations by configuration')\n",
        "    plt.legend(sheet_names)\n",
        "    plt.xticks(range(1, len(average_values) + 1), range(1, len(average_values) + 1))\n",
        "    plt.show()\n",
        "    \n",
        "    \n",
        "# Example usage:\n",
        "\n",
        "sheet_names = ['GA1 Results', 'GA2 Results', 'GA3 Results', 'GA4 Results', 'GA5 Results', 'GA6 Results', 'GA7 Results', 'GA8 Results', 'GA9 Results', 'PS Results']  # List of sheet names containing the data\n",
        "plot_means_from_excel(sheet_names)\n"
      ],
      "metadata": {
        "colab": {
          "base_uri": "https://localhost:8080/",
          "height": 620
        },
        "outputId": "22fb2b18-2342-4751-9b07-db361cb4b49c",
        "id": "DWdKmT9qoKE1"
      },
      "execution_count": null,
      "outputs": [
        {
          "output_type": "display_data",
          "data": {
            "text/plain": [
              "<IPython.core.display.HTML object>"
            ],
            "text/html": [
              "\n",
              "     <input type=\"file\" id=\"files-f0611b84-cd7d-492c-a565-3eaf6abd12c9\" name=\"files[]\" multiple disabled\n",
              "        style=\"border:none\" />\n",
              "     <output id=\"result-f0611b84-cd7d-492c-a565-3eaf6abd12c9\">\n",
              "      Upload widget is only available when the cell has been executed in the\n",
              "      current browser session. Please rerun this cell to enable.\n",
              "      </output>\n",
              "      <script>// Copyright 2017 Google LLC\n",
              "//\n",
              "// Licensed under the Apache License, Version 2.0 (the \"License\");\n",
              "// you may not use this file except in compliance with the License.\n",
              "// You may obtain a copy of the License at\n",
              "//\n",
              "//      http://www.apache.org/licenses/LICENSE-2.0\n",
              "//\n",
              "// Unless required by applicable law or agreed to in writing, software\n",
              "// distributed under the License is distributed on an \"AS IS\" BASIS,\n",
              "// WITHOUT WARRANTIES OR CONDITIONS OF ANY KIND, either express or implied.\n",
              "// See the License for the specific language governing permissions and\n",
              "// limitations under the License.\n",
              "\n",
              "/**\n",
              " * @fileoverview Helpers for google.colab Python module.\n",
              " */\n",
              "(function(scope) {\n",
              "function span(text, styleAttributes = {}) {\n",
              "  const element = document.createElement('span');\n",
              "  element.textContent = text;\n",
              "  for (const key of Object.keys(styleAttributes)) {\n",
              "    element.style[key] = styleAttributes[key];\n",
              "  }\n",
              "  return element;\n",
              "}\n",
              "\n",
              "// Max number of bytes which will be uploaded at a time.\n",
              "const MAX_PAYLOAD_SIZE = 100 * 1024;\n",
              "\n",
              "function _uploadFiles(inputId, outputId) {\n",
              "  const steps = uploadFilesStep(inputId, outputId);\n",
              "  const outputElement = document.getElementById(outputId);\n",
              "  // Cache steps on the outputElement to make it available for the next call\n",
              "  // to uploadFilesContinue from Python.\n",
              "  outputElement.steps = steps;\n",
              "\n",
              "  return _uploadFilesContinue(outputId);\n",
              "}\n",
              "\n",
              "// This is roughly an async generator (not supported in the browser yet),\n",
              "// where there are multiple asynchronous steps and the Python side is going\n",
              "// to poll for completion of each step.\n",
              "// This uses a Promise to block the python side on completion of each step,\n",
              "// then passes the result of the previous step as the input to the next step.\n",
              "function _uploadFilesContinue(outputId) {\n",
              "  const outputElement = document.getElementById(outputId);\n",
              "  const steps = outputElement.steps;\n",
              "\n",
              "  const next = steps.next(outputElement.lastPromiseValue);\n",
              "  return Promise.resolve(next.value.promise).then((value) => {\n",
              "    // Cache the last promise value to make it available to the next\n",
              "    // step of the generator.\n",
              "    outputElement.lastPromiseValue = value;\n",
              "    return next.value.response;\n",
              "  });\n",
              "}\n",
              "\n",
              "/**\n",
              " * Generator function which is called between each async step of the upload\n",
              " * process.\n",
              " * @param {string} inputId Element ID of the input file picker element.\n",
              " * @param {string} outputId Element ID of the output display.\n",
              " * @return {!Iterable<!Object>} Iterable of next steps.\n",
              " */\n",
              "function* uploadFilesStep(inputId, outputId) {\n",
              "  const inputElement = document.getElementById(inputId);\n",
              "  inputElement.disabled = false;\n",
              "\n",
              "  const outputElement = document.getElementById(outputId);\n",
              "  outputElement.innerHTML = '';\n",
              "\n",
              "  const pickedPromise = new Promise((resolve) => {\n",
              "    inputElement.addEventListener('change', (e) => {\n",
              "      resolve(e.target.files);\n",
              "    });\n",
              "  });\n",
              "\n",
              "  const cancel = document.createElement('button');\n",
              "  inputElement.parentElement.appendChild(cancel);\n",
              "  cancel.textContent = 'Cancel upload';\n",
              "  const cancelPromise = new Promise((resolve) => {\n",
              "    cancel.onclick = () => {\n",
              "      resolve(null);\n",
              "    };\n",
              "  });\n",
              "\n",
              "  // Wait for the user to pick the files.\n",
              "  const files = yield {\n",
              "    promise: Promise.race([pickedPromise, cancelPromise]),\n",
              "    response: {\n",
              "      action: 'starting',\n",
              "    }\n",
              "  };\n",
              "\n",
              "  cancel.remove();\n",
              "\n",
              "  // Disable the input element since further picks are not allowed.\n",
              "  inputElement.disabled = true;\n",
              "\n",
              "  if (!files) {\n",
              "    return {\n",
              "      response: {\n",
              "        action: 'complete',\n",
              "      }\n",
              "    };\n",
              "  }\n",
              "\n",
              "  for (const file of files) {\n",
              "    const li = document.createElement('li');\n",
              "    li.append(span(file.name, {fontWeight: 'bold'}));\n",
              "    li.append(span(\n",
              "        `(${file.type || 'n/a'}) - ${file.size} bytes, ` +\n",
              "        `last modified: ${\n",
              "            file.lastModifiedDate ? file.lastModifiedDate.toLocaleDateString() :\n",
              "                                    'n/a'} - `));\n",
              "    const percent = span('0% done');\n",
              "    li.appendChild(percent);\n",
              "\n",
              "    outputElement.appendChild(li);\n",
              "\n",
              "    const fileDataPromise = new Promise((resolve) => {\n",
              "      const reader = new FileReader();\n",
              "      reader.onload = (e) => {\n",
              "        resolve(e.target.result);\n",
              "      };\n",
              "      reader.readAsArrayBuffer(file);\n",
              "    });\n",
              "    // Wait for the data to be ready.\n",
              "    let fileData = yield {\n",
              "      promise: fileDataPromise,\n",
              "      response: {\n",
              "        action: 'continue',\n",
              "      }\n",
              "    };\n",
              "\n",
              "    // Use a chunked sending to avoid message size limits. See b/62115660.\n",
              "    let position = 0;\n",
              "    do {\n",
              "      const length = Math.min(fileData.byteLength - position, MAX_PAYLOAD_SIZE);\n",
              "      const chunk = new Uint8Array(fileData, position, length);\n",
              "      position += length;\n",
              "\n",
              "      const base64 = btoa(String.fromCharCode.apply(null, chunk));\n",
              "      yield {\n",
              "        response: {\n",
              "          action: 'append',\n",
              "          file: file.name,\n",
              "          data: base64,\n",
              "        },\n",
              "      };\n",
              "\n",
              "      let percentDone = fileData.byteLength === 0 ?\n",
              "          100 :\n",
              "          Math.round((position / fileData.byteLength) * 100);\n",
              "      percent.textContent = `${percentDone}% done`;\n",
              "\n",
              "    } while (position < fileData.byteLength);\n",
              "  }\n",
              "\n",
              "  // All done.\n",
              "  yield {\n",
              "    response: {\n",
              "      action: 'complete',\n",
              "    }\n",
              "  };\n",
              "}\n",
              "\n",
              "scope.google = scope.google || {};\n",
              "scope.google.colab = scope.google.colab || {};\n",
              "scope.google.colab._files = {\n",
              "  _uploadFiles,\n",
              "  _uploadFilesContinue,\n",
              "};\n",
              "})(self);\n",
              "</script> "
            ]
          },
          "metadata": {}
        },
        {
          "output_type": "stream",
          "name": "stdout",
          "text": [
            "Saving Results_Geral.xlsx to Results_Geral.xlsx\n"
          ]
        },
        {
          "output_type": "display_data",
          "data": {
            "text/plain": [
              "<Figure size 1200x600 with 1 Axes>"
            ],
            "image/png": "[encoded data removed]"
          },
          "metadata": {}
        }
      ]
    },
    {
      "cell_type": "code",
      "source": [
        "def plot_means_from_excel(sheet_names):\n",
        "    # Upload Excel file\n",
        "    uploaded = files.upload()\n",
        "    file_name = list(uploaded.keys())[0]\n",
        "\n",
        "    # Read data from Excel file for each sheet\n",
        "    data = []\n",
        "    for sheet_name in sheet_names:\n",
        "        GA_results = pd.read_excel(file_name, sheet_name=sheet_name)\n",
        "\n",
        "        # Split the 'results' column values and create separate columns\n",
        "        results_df = pd.DataFrame(GA_results['results'].str.split(',').tolist(), dtype=float)\n",
        "        data.append(results_df.values.flatten())  # Flatten the data to 1D\n",
        "        \n",
        "    # Generate boxplots for each generation\n",
        "    plt.figure(figsize=(12, 7))\n",
        "    plt.boxplot(data)\n",
        "    plt.xlabel('Configurations')\n",
        "    plt.ylabel('Fitness')\n",
        "    plt.title('Boxplot of Fitness by Configuration')\n",
        "    plt.xticks(range(1, len(sheet_names) + 1), sheet_names)\n",
        "    plt.show()\n",
        "\n",
        "# Example usage:\n",
        "sheet_names = ['GA1 Results', 'GA2 Results', 'GA3 Results', 'GA4 Results', 'GA5 Results', 'GA6 Results', 'GA7 Results', 'GA8 Results', 'GA9 Results', 'PS Results']  # List of sheet names containing the data\n",
        "plot_means_from_excel(sheet_names)\n",
        "\n"
      ],
      "metadata": {
        "colab": {
          "base_uri": "https://localhost:8080/",
          "height": 697
        },
        "outputId": "d4083f80-7cc5-4e83-9523-4a0c7d6472f2",
        "id": "CHNiQz3IoKE2"
      },
      "execution_count": null,
      "outputs": [
        {
          "output_type": "display_data",
          "data": {
            "text/plain": [
              "<IPython.core.display.HTML object>"
            ],
            "text/html": [
              "\n",
              "     <input type=\"file\" id=\"files-3fbc6cef-cf1f-413b-9aa0-2c5918e2d0b6\" name=\"files[]\" multiple disabled\n",
              "        style=\"border:none\" />\n",
              "     <output id=\"result-3fbc6cef-cf1f-413b-9aa0-2c5918e2d0b6\">\n",
              "      Upload widget is only available when the cell has been executed in the\n",
              "      current browser session. Please rerun this cell to enable.\n",
              "      </output>\n",
              "      <script>// Copyright 2017 Google LLC\n",
              "//\n",
              "// Licensed under the Apache License, Version 2.0 (the \"License\");\n",
              "// you may not use this file except in compliance with the License.\n",
              "// You may obtain a copy of the License at\n",
              "//\n",
              "//      http://www.apache.org/licenses/LICENSE-2.0\n",
              "//\n",
              "// Unless required by applicable law or agreed to in writing, software\n",
              "// distributed under the License is distributed on an \"AS IS\" BASIS,\n",
              "// WITHOUT WARRANTIES OR CONDITIONS OF ANY KIND, either express or implied.\n",
              "// See the License for the specific language governing permissions and\n",
              "// limitations under the License.\n",
              "\n",
              "/**\n",
              " * @fileoverview Helpers for google.colab Python module.\n",
              " */\n",
              "(function(scope) {\n",
              "function span(text, styleAttributes = {}) {\n",
              "  const element = document.createElement('span');\n",
              "  element.textContent = text;\n",
              "  for (const key of Object.keys(styleAttributes)) {\n",
              "    element.style[key] = styleAttributes[key];\n",
              "  }\n",
              "  return element;\n",
              "}\n",
              "\n",
              "// Max number of bytes which will be uploaded at a time.\n",
              "const MAX_PAYLOAD_SIZE = 100 * 1024;\n",
              "\n",
              "function _uploadFiles(inputId, outputId) {\n",
              "  const steps = uploadFilesStep(inputId, outputId);\n",
              "  const outputElement = document.getElementById(outputId);\n",
              "  // Cache steps on the outputElement to make it available for the next call\n",
              "  // to uploadFilesContinue from Python.\n",
              "  outputElement.steps = steps;\n",
              "\n",
              "  return _uploadFilesContinue(outputId);\n",
              "}\n",
              "\n",
              "// This is roughly an async generator (not supported in the browser yet),\n",
              "// where there are multiple asynchronous steps and the Python side is going\n",
              "// to poll for completion of each step.\n",
              "// This uses a Promise to block the python side on completion of each step,\n",
              "// then passes the result of the previous step as the input to the next step.\n",
              "function _uploadFilesContinue(outputId) {\n",
              "  const outputElement = document.getElementById(outputId);\n",
              "  const steps = outputElement.steps;\n",
              "\n",
              "  const next = steps.next(outputElement.lastPromiseValue);\n",
              "  return Promise.resolve(next.value.promise).then((value) => {\n",
              "    // Cache the last promise value to make it available to the next\n",
              "    // step of the generator.\n",
              "    outputElement.lastPromiseValue = value;\n",
              "    return next.value.response;\n",
              "  });\n",
              "}\n",
              "\n",
              "/**\n",
              " * Generator function which is called between each async step of the upload\n",
              " * process.\n",
              " * @param {string} inputId Element ID of the input file picker element.\n",
              " * @param {string} outputId Element ID of the output display.\n",
              " * @return {!Iterable<!Object>} Iterable of next steps.\n",
              " */\n",
              "function* uploadFilesStep(inputId, outputId) {\n",
              "  const inputElement = document.getElementById(inputId);\n",
              "  inputElement.disabled = false;\n",
              "\n",
              "  const outputElement = document.getElementById(outputId);\n",
              "  outputElement.innerHTML = '';\n",
              "\n",
              "  const pickedPromise = new Promise((resolve) => {\n",
              "    inputElement.addEventListener('change', (e) => {\n",
              "      resolve(e.target.files);\n",
              "    });\n",
              "  });\n",
              "\n",
              "  const cancel = document.createElement('button');\n",
              "  inputElement.parentElement.appendChild(cancel);\n",
              "  cancel.textContent = 'Cancel upload';\n",
              "  const cancelPromise = new Promise((resolve) => {\n",
              "    cancel.onclick = () => {\n",
              "      resolve(null);\n",
              "    };\n",
              "  });\n",
              "\n",
              "  // Wait for the user to pick the files.\n",
              "  const files = yield {\n",
              "    promise: Promise.race([pickedPromise, cancelPromise]),\n",
              "    response: {\n",
              "      action: 'starting',\n",
              "    }\n",
              "  };\n",
              "\n",
              "  cancel.remove();\n",
              "\n",
              "  // Disable the input element since further picks are not allowed.\n",
              "  inputElement.disabled = true;\n",
              "\n",
              "  if (!files) {\n",
              "    return {\n",
              "      response: {\n",
              "        action: 'complete',\n",
              "      }\n",
              "    };\n",
              "  }\n",
              "\n",
              "  for (const file of files) {\n",
              "    const li = document.createElement('li');\n",
              "    li.append(span(file.name, {fontWeight: 'bold'}));\n",
              "    li.append(span(\n",
              "        `(${file.type || 'n/a'}) - ${file.size} bytes, ` +\n",
              "        `last modified: ${\n",
              "            file.lastModifiedDate ? file.lastModifiedDate.toLocaleDateString() :\n",
              "                                    'n/a'} - `));\n",
              "    const percent = span('0% done');\n",
              "    li.appendChild(percent);\n",
              "\n",
              "    outputElement.appendChild(li);\n",
              "\n",
              "    const fileDataPromise = new Promise((resolve) => {\n",
              "      const reader = new FileReader();\n",
              "      reader.onload = (e) => {\n",
              "        resolve(e.target.result);\n",
              "      };\n",
              "      reader.readAsArrayBuffer(file);\n",
              "    });\n",
              "    // Wait for the data to be ready.\n",
              "    let fileData = yield {\n",
              "      promise: fileDataPromise,\n",
              "      response: {\n",
              "        action: 'continue',\n",
              "      }\n",
              "    };\n",
              "\n",
              "    // Use a chunked sending to avoid message size limits. See b/62115660.\n",
              "    let position = 0;\n",
              "    do {\n",
              "      const length = Math.min(fileData.byteLength - position, MAX_PAYLOAD_SIZE);\n",
              "      const chunk = new Uint8Array(fileData, position, length);\n",
              "      position += length;\n",
              "\n",
              "      const base64 = btoa(String.fromCharCode.apply(null, chunk));\n",
              "      yield {\n",
              "        response: {\n",
              "          action: 'append',\n",
              "          file: file.name,\n",
              "          data: base64,\n",
              "        },\n",
              "      };\n",
              "\n",
              "      let percentDone = fileData.byteLength === 0 ?\n",
              "          100 :\n",
              "          Math.round((position / fileData.byteLength) * 100);\n",
              "      percent.textContent = `${percentDone}% done`;\n",
              "\n",
              "    } while (position < fileData.byteLength);\n",
              "  }\n",
              "\n",
              "  // All done.\n",
              "  yield {\n",
              "    response: {\n",
              "      action: 'complete',\n",
              "    }\n",
              "  };\n",
              "}\n",
              "\n",
              "scope.google = scope.google || {};\n",
              "scope.google.colab = scope.google.colab || {};\n",
              "scope.google.colab._files = {\n",
              "  _uploadFiles,\n",
              "  _uploadFilesContinue,\n",
              "};\n",
              "})(self);\n",
              "</script> "
            ]
          },
          "metadata": {}
        },
        {
          "output_type": "stream",
          "name": "stdout",
          "text": [
            "Saving Results_Geral.xlsx to Results_Geral (1).xlsx\n"
          ]
        },
        {
          "output_type": "display_data",
          "data": {
            "text/plain": [
              "<Figure size 1200x700 with 1 Axes>"
            ],
            "image/png": "[encoded data removed]"
          },
          "metadata": {}
        }
      ]
    },
    {
      "cell_type": "markdown",
      "source": [
        "## **Final Tests**"
      ],
      "metadata": {
        "id": "XR5j2YECoAw5"
      }
    },
    {
      "cell_type": "markdown",
      "source": [
        "### **Testing with 30 Generations**"
      ],
      "metadata": {
        "id": "Er6YV23G6Xi8"
      }
    },
    {
      "cell_type": "markdown",
      "source": [
        "Since our GA1 implementation was the one that presented better results, having a convergence rate of 100%, meaning it was improving significantly throughout all 15 generations, we wanted to take it further. Here, we implement GA1 with 30 generations."
      ],
      "metadata": {
        "id": "nsh2F-YqTs9Z"
      }
    },
    {
      "cell_type": "code",
      "source": [
        "GA1_final_results = []\n",
        "\n",
        "for i in range(num_iterations):\n",
        "\n",
        "  # Initialize the population of candidate solutions using Xavier initialization\n",
        "  population = xavier_init((pop_size, num_features, num_classes)).reshape((pop_size, num_features*num_classes))\n",
        "\n",
        "  print(\"----- Run\", i+1, \"-----\")\n",
        "  print()\n",
        "\n",
        "  GA1_1 = genetic_algorithm(population=population,\n",
        "                            maximization=True,\n",
        "                            fitness=fitness,\n",
        "                            selection=tournament_selection,\n",
        "                            crossover=uniform_crossover, \n",
        "                            mutation=gaussian_mutation, \n",
        "                            elitism=True, \n",
        "                            num_generations=30, \n",
        "                            crossover_rate=crossover_rate, \n",
        "                            mutation_rate=mutation_rate,  \n",
        "                            elite_size=elite_size,\n",
        "                            selection_args={\"tournament_size\":5})\n",
        "\n",
        "  print()\n",
        "\n",
        "  GA1_final_results.append({\n",
        "        'run': i+1,\n",
        "        'best_fitness': GA1_1[0]['best_fitness'],\n",
        "        'convergence_rate': GA1_1[0]['convergence_rate'],\n",
        "        'run_time': GA1_1[0]['run_time'],\n",
        "        'best_weights': GA1_1[0]['best_weights'],\n",
        "        'avg_improvement_rate': GA1_1[0]['avg_improvement_rate'],\n",
        "        'results': GA1_1[1]\n",
        "  })"
      ],
      "metadata": {
        "id": "ObLPvd4OoFL2",
        "colab": {
          "base_uri": "https://localhost:8080/",
          "height": 1000
        },
        "outputId": "31744a44-a306-4518-ed49-20e8c91ef49a"
      },
      "execution_count": null,
      "outputs": [
        {
          "output_type": "stream",
          "name": "stdout",
          "text": [
            "----- Run 1 -----\n",
            "\n",
            "Generation 1: Best fitness = 0.1341\n",
            "Generation 2: Best fitness = 0.1438\n",
            "Generation 3: Best fitness = 0.1547\n",
            "Generation 4: Best fitness = 0.1621\n",
            "Generation 5: Best fitness = 0.1697\n",
            "Generation 6: Best fitness = 0.1802\n",
            "Generation 7: Best fitness = 0.1852\n",
            "Generation 8: Best fitness = 0.1907\n",
            "Generation 9: Best fitness = 0.1979\n",
            "Generation 10: Best fitness = 0.2034\n",
            "Generation 11: Best fitness = 0.2148\n",
            "Generation 12: Best fitness = 0.2148\n",
            "Generation 13: Best fitness = 0.2158\n",
            "Generation 14: Best fitness = 0.2191\n",
            "Generation 15: Best fitness = 0.2210\n",
            "Generation 16: Best fitness = 0.2244\n",
            "Generation 17: Best fitness = 0.2245\n",
            "Generation 18: Best fitness = 0.2269\n",
            "Generation 19: Best fitness = 0.2279\n",
            "Generation 20: Best fitness = 0.2298\n",
            "Generation 21: Best fitness = 0.2305\n",
            "Generation 22: Best fitness = 0.2334\n",
            "Generation 23: Best fitness = 0.2334\n",
            "Generation 24: Best fitness = 0.2334\n",
            "Generation 25: Best fitness = 0.2334\n",
            "Generation 26: Best fitness = 0.2343\n",
            "Generation 27: Best fitness = 0.2353\n",
            "Generation 28: Best fitness = 0.2353\n",
            "Generation 29: Best fitness = 0.2353\n",
            "Generation 30: Best fitness = 0.2361\n",
            "\n",
            "----- Run 2 -----\n",
            "\n",
            "Generation 1: Best fitness = 0.1416\n",
            "Generation 2: Best fitness = 0.1416\n",
            "Generation 3: Best fitness = 0.1538\n",
            "Generation 4: Best fitness = 0.1614\n",
            "Generation 5: Best fitness = 0.1653\n",
            "Generation 6: Best fitness = 0.1729\n",
            "Generation 7: Best fitness = 0.1729\n",
            "Generation 8: Best fitness = 0.1786\n",
            "Generation 9: Best fitness = 0.1806\n",
            "Generation 10: Best fitness = 0.1835\n",
            "Generation 11: Best fitness = 0.1914\n",
            "Generation 12: Best fitness = 0.1914\n",
            "Generation 13: Best fitness = 0.1962\n",
            "Generation 14: Best fitness = 0.1983\n",
            "Generation 15: Best fitness = 0.2029\n",
            "Generation 16: Best fitness = 0.2034\n",
            "Generation 17: Best fitness = 0.2063\n",
            "Generation 18: Best fitness = 0.2099\n",
            "Generation 19: Best fitness = 0.2101\n",
            "Generation 20: Best fitness = 0.2109\n"
          ]
        },
        {
          "output_type": "error",
          "ename": "KeyboardInterrupt",
          "evalue": "ignored",
          "traceback": [
            "\u001b[0;31m---------------------------------------------------------------------------\u001b[0m",
            "\u001b[0;31mKeyboardInterrupt\u001b[0m                         Traceback (most recent call last)",
            "\u001b[0;32m<ipython-input-18-234df99c8ea1>\u001b[0m in \u001b[0;36m<cell line: 3>\u001b[0;34m()\u001b[0m\n\u001b[1;32m      9\u001b[0m   \u001b[0mprint\u001b[0m\u001b[0;34m(\u001b[0m\u001b[0;34m)\u001b[0m\u001b[0;34m\u001b[0m\u001b[0;34m\u001b[0m\u001b[0m\n\u001b[1;32m     10\u001b[0m \u001b[0;34m\u001b[0m\u001b[0m\n\u001b[0;32m---> 11\u001b[0;31m   GA1_1 = genetic_algorithm(population=population, \n\u001b[0m\u001b[1;32m     12\u001b[0m                           \u001b[0mselection\u001b[0m\u001b[0;34m=\u001b[0m\u001b[0mtournament_selection\u001b[0m\u001b[0;34m,\u001b[0m\u001b[0;34m\u001b[0m\u001b[0;34m\u001b[0m\u001b[0m\n\u001b[1;32m     13\u001b[0m                           \u001b[0mcrossover\u001b[0m\u001b[0;34m=\u001b[0m\u001b[0muniform_crossover\u001b[0m\u001b[0;34m,\u001b[0m\u001b[0;34m\u001b[0m\u001b[0;34m\u001b[0m\u001b[0m\n",
            "\u001b[0;32m<ipython-input-15-26d83900607e>\u001b[0m in \u001b[0;36mgenetic_algorithm\u001b[0;34m(population, selection, crossover, mutation, elitism, num_generations, crossover_rate, mutation_rate, elite_size, **kwargs)\u001b[0m\n\u001b[1;32m     17\u001b[0m \u001b[0;34m\u001b[0m\u001b[0m\n\u001b[1;32m     18\u001b[0m       \u001b[0;31m# Evaluate the fitness of each chromosome in the population\u001b[0m\u001b[0;34m\u001b[0m\u001b[0;34m\u001b[0m\u001b[0m\n\u001b[0;32m---> 19\u001b[0;31m       \u001b[0mfitness_values\u001b[0m \u001b[0;34m=\u001b[0m \u001b[0mnp\u001b[0m\u001b[0;34m.\u001b[0m\u001b[0marray\u001b[0m\u001b[0;34m(\u001b[0m\u001b[0;34m[\u001b[0m\u001b[0mfitness2\u001b[0m\u001b[0;34m(\u001b[0m\u001b[0mchromosome\u001b[0m\u001b[0;34m)\u001b[0m \u001b[0;32mfor\u001b[0m \u001b[0mchromosome\u001b[0m \u001b[0;32min\u001b[0m \u001b[0mpopulation\u001b[0m\u001b[0;34m]\u001b[0m\u001b[0;34m)\u001b[0m\u001b[0;34m\u001b[0m\u001b[0;34m\u001b[0m\u001b[0m\n\u001b[0m\u001b[1;32m     20\u001b[0m \u001b[0;34m\u001b[0m\u001b[0m\n\u001b[1;32m     21\u001b[0m       \u001b[0;32mif\u001b[0m \u001b[0melitism\u001b[0m\u001b[0;34m:\u001b[0m\u001b[0;34m\u001b[0m\u001b[0;34m\u001b[0m\u001b[0m\n",
            "\u001b[0;32m<ipython-input-15-26d83900607e>\u001b[0m in \u001b[0;36m<listcomp>\u001b[0;34m(.0)\u001b[0m\n\u001b[1;32m     17\u001b[0m \u001b[0;34m\u001b[0m\u001b[0m\n\u001b[1;32m     18\u001b[0m       \u001b[0;31m# Evaluate the fitness of each chromosome in the population\u001b[0m\u001b[0;34m\u001b[0m\u001b[0;34m\u001b[0m\u001b[0m\n\u001b[0;32m---> 19\u001b[0;31m       \u001b[0mfitness_values\u001b[0m \u001b[0;34m=\u001b[0m \u001b[0mnp\u001b[0m\u001b[0;34m.\u001b[0m\u001b[0marray\u001b[0m\u001b[0;34m(\u001b[0m\u001b[0;34m[\u001b[0m\u001b[0mfitness2\u001b[0m\u001b[0;34m(\u001b[0m\u001b[0mchromosome\u001b[0m\u001b[0;34m)\u001b[0m \u001b[0;32mfor\u001b[0m \u001b[0mchromosome\u001b[0m \u001b[0;32min\u001b[0m \u001b[0mpopulation\u001b[0m\u001b[0;34m]\u001b[0m\u001b[0;34m)\u001b[0m\u001b[0;34m\u001b[0m\u001b[0;34m\u001b[0m\u001b[0m\n\u001b[0m\u001b[1;32m     20\u001b[0m \u001b[0;34m\u001b[0m\u001b[0m\n\u001b[1;32m     21\u001b[0m       \u001b[0;32mif\u001b[0m \u001b[0melitism\u001b[0m\u001b[0;34m:\u001b[0m\u001b[0;34m\u001b[0m\u001b[0;34m\u001b[0m\u001b[0m\n",
            "\u001b[0;32m<ipython-input-9-48fe518b5ee0>\u001b[0m in \u001b[0;36mfitness2\u001b[0;34m(chromosome)\u001b[0m\n\u001b[1;32m     12\u001b[0m \u001b[0;34m\u001b[0m\u001b[0m\n\u001b[1;32m     13\u001b[0m     \u001b[0;31m# Evaluate the model on the test set and return  F1-score\u001b[0m\u001b[0;34m\u001b[0m\u001b[0;34m\u001b[0m\u001b[0m\n\u001b[0;32m---> 14\u001b[0;31m     \u001b[0m_\u001b[0m\u001b[0;34m,\u001b[0m \u001b[0mF1_Score\u001b[0m \u001b[0;34m=\u001b[0m \u001b[0mmodel\u001b[0m\u001b[0;34m.\u001b[0m\u001b[0mevaluate\u001b[0m\u001b[0;34m(\u001b[0m\u001b[0mx_test_pca\u001b[0m\u001b[0;34m.\u001b[0m\u001b[0mreshape\u001b[0m\u001b[0;34m(\u001b[0m\u001b[0;34m(\u001b[0m\u001b[0;36m10000\u001b[0m\u001b[0;34m,\u001b[0m \u001b[0mnum_features\u001b[0m\u001b[0;34m)\u001b[0m\u001b[0;34m)\u001b[0m\u001b[0;34m,\u001b[0m \u001b[0my_test\u001b[0m\u001b[0;34m,\u001b[0m \u001b[0mverbose\u001b[0m\u001b[0;34m=\u001b[0m\u001b[0;36m0\u001b[0m\u001b[0;34m)\u001b[0m\u001b[0;34m\u001b[0m\u001b[0;34m\u001b[0m\u001b[0m\n\u001b[0m\u001b[1;32m     15\u001b[0m     \u001b[0;32mreturn\u001b[0m \u001b[0mF1_Score\u001b[0m\u001b[0;34m\u001b[0m\u001b[0;34m\u001b[0m\u001b[0m\n",
            "\u001b[0;32m/usr/local/lib/python3.10/dist-packages/keras/utils/traceback_utils.py\u001b[0m in \u001b[0;36merror_handler\u001b[0;34m(*args, **kwargs)\u001b[0m\n\u001b[1;32m     63\u001b[0m         \u001b[0mfiltered_tb\u001b[0m \u001b[0;34m=\u001b[0m \u001b[0;32mNone\u001b[0m\u001b[0;34m\u001b[0m\u001b[0;34m\u001b[0m\u001b[0m\n\u001b[1;32m     64\u001b[0m         \u001b[0;32mtry\u001b[0m\u001b[0;34m:\u001b[0m\u001b[0;34m\u001b[0m\u001b[0;34m\u001b[0m\u001b[0m\n\u001b[0;32m---> 65\u001b[0;31m             \u001b[0;32mreturn\u001b[0m \u001b[0mfn\u001b[0m\u001b[0;34m(\u001b[0m\u001b[0;34m*\u001b[0m\u001b[0margs\u001b[0m\u001b[0;34m,\u001b[0m \u001b[0;34m**\u001b[0m\u001b[0mkwargs\u001b[0m\u001b[0;34m)\u001b[0m\u001b[0;34m\u001b[0m\u001b[0;34m\u001b[0m\u001b[0m\n\u001b[0m\u001b[1;32m     66\u001b[0m         \u001b[0;32mexcept\u001b[0m \u001b[0mException\u001b[0m \u001b[0;32mas\u001b[0m \u001b[0me\u001b[0m\u001b[0;34m:\u001b[0m\u001b[0;34m\u001b[0m\u001b[0;34m\u001b[0m\u001b[0m\n\u001b[1;32m     67\u001b[0m             \u001b[0mfiltered_tb\u001b[0m \u001b[0;34m=\u001b[0m \u001b[0m_process_traceback_frames\u001b[0m\u001b[0;34m(\u001b[0m\u001b[0me\u001b[0m\u001b[0;34m.\u001b[0m\u001b[0m__traceback__\u001b[0m\u001b[0;34m)\u001b[0m\u001b[0;34m\u001b[0m\u001b[0;34m\u001b[0m\u001b[0m\n",
            "\u001b[0;31mKeyboardInterrupt\u001b[0m: "
          ]
        }
      ]
    },
    {
      "cell_type": "code",
      "source": [
        "# Convert the results to a pandas DataFrame\n",
        "df11 = pd.DataFrame.from_dict(GA1_final_results)\n",
        "\n",
        "# Create a new Excel file\n",
        "workbook = Workbook()\n",
        "\n",
        "# Select the active worksheet\n",
        "worksheet = workbook.active\n",
        "\n",
        "# Set the title of the worksheet\n",
        "worksheet.title = 'GA1.1 Results'\n",
        "\n",
        "# Convert the DataFrame to a list of lists\n",
        "data = df11.values.tolist()\n",
        "\n",
        "# Write the header row to the worksheet\n",
        "header = df11.columns.tolist()\n",
        "worksheet.append(header)\n",
        "\n",
        "# Write the DataFrame to the worksheet\n",
        "for r in data:\n",
        "    worksheet.append(r)\n",
        "\n",
        "# Save the Excel file\n",
        "workbook.save('GA1.1 Results.xlsx')"
      ],
      "metadata": {
        "id": "HhKC6YAxspj6"
      },
      "execution_count": null,
      "outputs": []
    },
    {
      "cell_type": "markdown",
      "source": [
        "### **Testing with F1-Score**"
      ],
      "metadata": {
        "id": "AtDIFKt84bgF"
      }
    },
    {
      "cell_type": "markdown",
      "source": [
        "We wanted to test our algorithm with a different fitness function as well. In this implementation, we utilize both 30 generations and F1-Score as the performance measure."
      ],
      "metadata": {
        "id": "AaRk0yBWTPKG"
      }
    },
    {
      "cell_type": "code",
      "source": [
        "GA1_f1_results = []\n",
        "\n",
        "for i in range(num_iterations):\n",
        "\n",
        "  # Initialize the population of candidate solutions using Xavier initialization\n",
        "  population = xavier_init((pop_size, num_features, num_classes)).reshape((pop_size, num_features*num_classes))\n",
        "\n",
        "  print(\"----- Run\", i+1, \"-----\")\n",
        "  print()\n",
        "\n",
        "  GA1_f1 = genetic_algorithm(population=population,\n",
        "                             maximization=True,\n",
        "                            fitness=fitness_f1,\n",
        "                            selection=tournament_selection,\n",
        "                            crossover=uniform_crossover, \n",
        "                            mutation=gaussian_mutation, \n",
        "                            elitism=True, \n",
        "                            num_generations=30, \n",
        "                            crossover_rate=crossover_rate, \n",
        "                            mutation_rate=mutation_rate,  \n",
        "                            elite_size=elite_size,\n",
        "                            selection_args={\"tournament_size\":5})\n",
        "\n",
        "  print()\n",
        "\n",
        "  GA1_f1_results.append({\n",
        "        'run': i+1,\n",
        "        'best_fitness': GA1_f1[0]['best_fitness'],\n",
        "        'convergence_rate': GA1_f1[0]['convergence_rate'],\n",
        "        'run_time': GA1_f1[0]['run_time'],\n",
        "        'best_weights': GA1_f1[0]['best_weights'],\n",
        "        'avg_improvement_rate': GA1_f1[0]['avg_improvement_rate'],\n",
        "        'results': GA1_f1[1]\n",
        "  })"
      ],
      "metadata": {
        "id": "TfDpvxS-GelM",
        "colab": {
          "base_uri": "https://localhost:8080/"
        },
        "outputId": "b13704a6-733f-4990-b285-b33d26395fa4"
      },
      "execution_count": 21,
      "outputs": [
        {
          "output_type": "stream",
          "name": "stdout",
          "text": [
            "----- Run 1 -----\n",
            "\n",
            "Generation 1: Best fitness = 0.1177\n",
            "Generation 2: Best fitness = 0.1385\n",
            "Generation 3: Best fitness = 0.1510\n",
            "Generation 4: Best fitness = 0.1511\n",
            "Generation 5: Best fitness = 0.1633\n",
            "Generation 6: Best fitness = 0.1703\n",
            "Generation 7: Best fitness = 0.1722\n",
            "Generation 8: Best fitness = 0.1787\n",
            "Generation 9: Best fitness = 0.1878\n",
            "Generation 10: Best fitness = 0.1926\n",
            "Generation 11: Best fitness = 0.2024\n",
            "Generation 12: Best fitness = 0.2056\n",
            "Generation 13: Best fitness = 0.2070\n",
            "Generation 14: Best fitness = 0.2093\n",
            "Generation 15: Best fitness = 0.2095\n",
            "Generation 16: Best fitness = 0.2161\n",
            "Generation 17: Best fitness = 0.2161\n",
            "Generation 18: Best fitness = 0.2187\n",
            "Generation 19: Best fitness = 0.2195\n",
            "Generation 20: Best fitness = 0.2232\n",
            "Generation 21: Best fitness = 0.2232\n",
            "Generation 22: Best fitness = 0.2246\n",
            "Generation 23: Best fitness = 0.2256\n",
            "Generation 24: Best fitness = 0.2259\n",
            "Generation 25: Best fitness = 0.2280\n",
            "Generation 26: Best fitness = 0.2292\n",
            "Generation 27: Best fitness = 0.2292\n",
            "Generation 28: Best fitness = 0.2292\n",
            "Generation 29: Best fitness = 0.2292\n",
            "Generation 30: Best fitness = 0.2296\n",
            "\n",
            "----- Run 2 -----\n",
            "\n",
            "Generation 1: Best fitness = 0.1285\n",
            "Generation 2: Best fitness = 0.1492\n",
            "Generation 3: Best fitness = 0.1492\n",
            "Generation 4: Best fitness = 0.1619\n",
            "Generation 5: Best fitness = 0.1679\n",
            "Generation 6: Best fitness = 0.1737\n",
            "Generation 7: Best fitness = 0.1809\n",
            "Generation 8: Best fitness = 0.1830\n",
            "Generation 9: Best fitness = 0.1846\n",
            "Generation 10: Best fitness = 0.1921\n",
            "Generation 11: Best fitness = 0.1983\n",
            "Generation 12: Best fitness = 0.2008\n",
            "Generation 13: Best fitness = 0.2009\n",
            "Generation 14: Best fitness = 0.2019\n",
            "Generation 15: Best fitness = 0.2059\n",
            "Generation 16: Best fitness = 0.2074\n",
            "Generation 17: Best fitness = 0.2091\n",
            "Generation 18: Best fitness = 0.2101\n",
            "Generation 19: Best fitness = 0.2122\n",
            "Generation 20: Best fitness = 0.2131\n",
            "Generation 21: Best fitness = 0.2147\n",
            "Generation 22: Best fitness = 0.2153\n",
            "Generation 23: Best fitness = 0.2160\n",
            "Generation 24: Best fitness = 0.2181\n",
            "Generation 25: Best fitness = 0.2184\n",
            "Generation 26: Best fitness = 0.2191\n",
            "Generation 27: Best fitness = 0.2208\n",
            "Generation 28: Best fitness = 0.2217\n",
            "Generation 29: Best fitness = 0.2218\n",
            "Generation 30: Best fitness = 0.2228\n",
            "\n",
            "----- Run 3 -----\n",
            "\n",
            "Generation 1: Best fitness = 0.1325\n",
            "Generation 2: Best fitness = 0.1376\n",
            "Generation 3: Best fitness = 0.1524\n",
            "Generation 4: Best fitness = 0.1586\n",
            "Generation 5: Best fitness = 0.1733\n",
            "Generation 6: Best fitness = 0.1733\n",
            "Generation 7: Best fitness = 0.1814\n",
            "Generation 8: Best fitness = 0.1919\n",
            "Generation 9: Best fitness = 0.1968\n",
            "Generation 10: Best fitness = 0.1979\n",
            "Generation 11: Best fitness = 0.2004\n",
            "Generation 12: Best fitness = 0.2055\n",
            "Generation 13: Best fitness = 0.2055\n",
            "Generation 14: Best fitness = 0.2102\n",
            "Generation 15: Best fitness = 0.2112\n",
            "Generation 16: Best fitness = 0.2137\n",
            "Generation 17: Best fitness = 0.2189\n",
            "Generation 18: Best fitness = 0.2229\n",
            "Generation 19: Best fitness = 0.2263\n",
            "Generation 20: Best fitness = 0.2263\n",
            "Generation 21: Best fitness = 0.2263\n",
            "Generation 22: Best fitness = 0.2276\n",
            "Generation 23: Best fitness = 0.2276\n",
            "Generation 24: Best fitness = 0.2284\n",
            "Generation 25: Best fitness = 0.2299\n",
            "Generation 26: Best fitness = 0.2300\n",
            "Generation 27: Best fitness = 0.2312\n",
            "Generation 28: Best fitness = 0.2327\n",
            "Generation 29: Best fitness = 0.2338\n",
            "Generation 30: Best fitness = 0.2350\n",
            "\n"
          ]
        }
      ]
    },
    {
      "cell_type": "code",
      "source": [
        "# Convert the results to a pandas DataFrame\n",
        "df12 = pd.DataFrame.from_dict(GA1_f1_results)\n",
        "\n",
        "# Create a new Excel file\n",
        "workbook = Workbook()\n",
        "\n",
        "# Select the active worksheet\n",
        "worksheet = workbook.active\n",
        "\n",
        "# Set the title of the worksheet\n",
        "worksheet.title = 'GA1 F1 Results'\n",
        "\n",
        "# Convert the DataFrame to a list of lists\n",
        "data = df12.values.tolist()\n",
        "\n",
        "# Write the header row to the worksheet\n",
        "header = df12.columns.tolist()\n",
        "worksheet.append(header)\n",
        "\n",
        "# Write the DataFrame to the worksheet\n",
        "for r in data:\n",
        "    worksheet.append(r)\n",
        "\n",
        "# Save the Excel file\n",
        "workbook.save('GA1 F1 Results.xlsx')"
      ],
      "metadata": {
        "id": "sasbB7P857Xc"
      },
      "execution_count": 22,
      "outputs": []
    },
    {
      "cell_type": "markdown",
      "source": [
        "### **Testing for Loss Minimization**"
      ],
      "metadata": {
        "id": "3k4AgVzSFt3T"
      }
    },
    {
      "cell_type": "markdown",
      "source": [
        "Throughout the project, we only focused on maximization, be that of accuracy or F1-Score. To finalize, we wanted to test our function for loss minimization."
      ],
      "metadata": {
        "id": "zZye5nM2F5xO"
      }
    },
    {
      "cell_type": "code",
      "source": [
        "GA1_loss_results = []\n",
        "\n",
        "for i in range(num_iterations):\n",
        "\n",
        "  # Initialize the population of candidate solutions using Xavier initialization\n",
        "  population = xavier_init((pop_size, num_features, num_classes)).reshape((pop_size, num_features*num_classes))\n",
        "\n",
        "  print(\"----- Run\", i+1, \"-----\")\n",
        "  print()\n",
        "\n",
        "  GA1_loss = genetic_algorithm(population=population,\n",
        "                               maximization=False,\n",
        "                               fitness=fitness,\n",
        "                               selection=tournament_selection,\n",
        "                               crossover=uniform_crossover, \n",
        "                               mutation=gaussian_mutation, \n",
        "                               elitism=True, \n",
        "                               num_generations=num_generations, \n",
        "                               crossover_rate=crossover_rate, \n",
        "                               mutation_rate=mutation_rate,  \n",
        "                               elite_size=elite_size,\n",
        "                               selection_args={\"tournament_size\":5})\n",
        "\n",
        "  print()\n",
        "\n",
        "  GA1_loss_results.append({\n",
        "        'run': i+1,\n",
        "        'best_fitness': GA1_loss[0]['best_fitness'],\n",
        "        'convergence_rate': GA1_loss[0]['convergence_rate'],\n",
        "        'run_time': GA1_loss[0]['run_time'],\n",
        "        'best_weights': GA1_loss[0]['best_weights'],\n",
        "        'avg_improvement_rate': GA1_loss[0]['avg_improvement_rate'],\n",
        "        'results': GA1_loss[1]\n",
        "  })"
      ],
      "metadata": {
        "colab": {
          "base_uri": "https://localhost:8080/"
        },
        "id": "Zn3vE27jF5KV",
        "outputId": "296ba423-232f-4ed6-aff9-36916cbee6a0"
      },
      "execution_count": 30,
      "outputs": [
        {
          "output_type": "stream",
          "name": "stdout",
          "text": [
            "----- Run 1 -----\n",
            "\n",
            "Generation 1: Worst fitness = 8.0909\n",
            "Generation 2: Worst fitness = 7.5761\n",
            "Generation 3: Worst fitness = 7.5759\n",
            "Generation 4: Worst fitness = 7.2270\n",
            "Generation 5: Worst fitness = 6.9462\n",
            "Generation 6: Worst fitness = 6.9462\n",
            "Generation 7: Worst fitness = 6.5988\n",
            "Generation 8: Worst fitness = 6.5988\n",
            "Generation 9: Worst fitness = 6.4055\n",
            "Generation 10: Worst fitness = 6.2683\n",
            "Generation 11: Worst fitness = 6.2263\n",
            "Generation 12: Worst fitness = 6.1046\n",
            "Generation 13: Worst fitness = 6.1044\n",
            "Generation 14: Worst fitness = 6.0951\n",
            "Generation 15: Worst fitness = 6.0448\n",
            "\n",
            "----- Run 2 -----\n",
            "\n",
            "Generation 1: Worst fitness = 8.3020\n",
            "Generation 2: Worst fitness = 7.9638\n",
            "Generation 3: Worst fitness = 7.4967\n",
            "Generation 4: Worst fitness = 7.3905\n",
            "Generation 5: Worst fitness = 7.1664\n",
            "Generation 6: Worst fitness = 7.1664\n",
            "Generation 7: Worst fitness = 6.9438\n",
            "Generation 8: Worst fitness = 6.6562\n",
            "Generation 9: Worst fitness = 6.6419\n",
            "Generation 10: Worst fitness = 6.5524\n",
            "Generation 11: Worst fitness = 6.4374\n",
            "Generation 12: Worst fitness = 6.3506\n",
            "Generation 13: Worst fitness = 6.2712\n",
            "Generation 14: Worst fitness = 6.1832\n",
            "Generation 15: Worst fitness = 6.1533\n",
            "\n",
            "----- Run 3 -----\n",
            "\n",
            "Generation 1: Worst fitness = 8.4376\n",
            "Generation 2: Worst fitness = 7.8887\n",
            "Generation 3: Worst fitness = 7.3306\n",
            "Generation 4: Worst fitness = 7.3306\n",
            "Generation 5: Worst fitness = 7.1512\n",
            "Generation 6: Worst fitness = 7.0143\n",
            "Generation 7: Worst fitness = 6.8272\n",
            "Generation 8: Worst fitness = 6.7858\n",
            "Generation 9: Worst fitness = 6.6186\n",
            "Generation 10: Worst fitness = 6.6186\n",
            "Generation 11: Worst fitness = 6.5454\n",
            "Generation 12: Worst fitness = 6.4194\n",
            "Generation 13: Worst fitness = 6.3628\n",
            "Generation 14: Worst fitness = 6.2791\n",
            "Generation 15: Worst fitness = 6.2154\n",
            "\n"
          ]
        }
      ]
    },
    {
      "cell_type": "code",
      "source": [
        "# Convert the results to a pandas DataFrame\n",
        "df13 = pd.DataFrame.from_dict(GA1_loss_results)\n",
        "\n",
        "# Create a new Excel file\n",
        "workbook = Workbook()\n",
        "\n",
        "# Select the active worksheet\n",
        "worksheet = workbook.active\n",
        "\n",
        "# Set the title of the worksheet\n",
        "worksheet.title = 'GA1 Loss Results'\n",
        "\n",
        "# Convert the DataFrame to a list of lists\n",
        "data = df13.values.tolist()\n",
        "\n",
        "# Write the header row to the worksheet\n",
        "header = df13.columns.tolist()\n",
        "worksheet.append(header)\n",
        "\n",
        "# Write the DataFrame to the worksheet\n",
        "for r in data:\n",
        "    worksheet.append(r)\n",
        "\n",
        "# Save the Excel file\n",
        "workbook.save('GA1 Loss Results.xlsx')"
      ],
      "metadata": {
        "id": "OZ6DNBOQXxKU"
      },
      "execution_count": 31,
      "outputs": []
    },
    {
      "cell_type": "code",
      "source": [],
      "metadata": {
        "id": "k3hte7SbX4JN"
      },
      "execution_count": null,
      "outputs": []
    }
  ],
  "metadata": {
    "accelerator": "GPU",
    "colab": {
      "machine_shape": "hm",
      "provenance": [],
      "toc_visible": true
    },
    "gpuClass": "standard",
    "kernelspec": {
      "display_name": "Python 3",
      "name": "python3"
    },
    "language_info": {
      "name": "python"
    }
  },
  "nbformat": 4,
  "nbformat_minor": 0
}